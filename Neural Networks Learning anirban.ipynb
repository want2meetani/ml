{
 "cells": [
  {
   "cell_type": "code",
   "execution_count": 1,
   "metadata": {},
   "outputs": [],
   "source": [
    "\n",
    "import warnings\n",
    "warnings.simplefilter('ignore')\n",
    "\n",
    "import os,glob\n",
    "import matplotlib.pyplot as plt\n",
    "import seaborn as sns\n",
    "import pandas as pd\n",
    "import numpy as np\n",
    "from PIL import Image,ImageFilter\n",
    "%matplotlib inline\n",
    "\n",
    "from scipy.io import loadmat"
   ]
  },
  {
   "cell_type": "code",
   "execution_count": 2,
   "metadata": {},
   "outputs": [
    {
     "name": "stdout",
     "output_type": "stream",
     "text": [
      "__header__\n",
      "__version__\n",
      "__globals__\n",
      "X\n",
      "y\n"
     ]
    }
   ],
   "source": [
    "# Loading Mat file\n",
    "mat=loadmat('ex4data1.mat')\n",
    "print(*mat.keys(),sep='\\n')"
   ]
  },
  {
   "cell_type": "code",
   "execution_count": 3,
   "metadata": {},
   "outputs": [
    {
     "name": "stdout",
     "output_type": "stream",
     "text": [
      "TRAINING DATASET SHAPE : 5000 X 401\n"
     ]
    },
    {
     "data": {
      "text/html": [
       "<div>\n",
       "<style scoped>\n",
       "    .dataframe tbody tr th:only-of-type {\n",
       "        vertical-align: middle;\n",
       "    }\n",
       "\n",
       "    .dataframe tbody tr th {\n",
       "        vertical-align: top;\n",
       "    }\n",
       "\n",
       "    .dataframe thead th {\n",
       "        text-align: right;\n",
       "    }\n",
       "</style>\n",
       "<table border=\"1\" class=\"dataframe\">\n",
       "  <thead>\n",
       "    <tr style=\"text-align: right;\">\n",
       "      <th></th>\n",
       "      <th>x1</th>\n",
       "      <th>x2</th>\n",
       "      <th>x3</th>\n",
       "      <th>x4</th>\n",
       "      <th>x5</th>\n",
       "      <th>x6</th>\n",
       "      <th>x7</th>\n",
       "      <th>x8</th>\n",
       "      <th>x9</th>\n",
       "      <th>x10</th>\n",
       "      <th>...</th>\n",
       "      <th>x392</th>\n",
       "      <th>x393</th>\n",
       "      <th>x394</th>\n",
       "      <th>x395</th>\n",
       "      <th>x396</th>\n",
       "      <th>x397</th>\n",
       "      <th>x398</th>\n",
       "      <th>x399</th>\n",
       "      <th>x400</th>\n",
       "      <th>y</th>\n",
       "    </tr>\n",
       "  </thead>\n",
       "  <tbody>\n",
       "    <tr>\n",
       "      <th>565</th>\n",
       "      <td>0.0</td>\n",
       "      <td>0.0</td>\n",
       "      <td>0.0</td>\n",
       "      <td>0.0</td>\n",
       "      <td>0.0</td>\n",
       "      <td>0.0</td>\n",
       "      <td>0.0</td>\n",
       "      <td>0.0</td>\n",
       "      <td>0.0</td>\n",
       "      <td>0.0</td>\n",
       "      <td>...</td>\n",
       "      <td>0.0</td>\n",
       "      <td>0.0</td>\n",
       "      <td>0.0</td>\n",
       "      <td>0.0</td>\n",
       "      <td>0.0</td>\n",
       "      <td>0.0</td>\n",
       "      <td>0.0</td>\n",
       "      <td>0.0</td>\n",
       "      <td>0.0</td>\n",
       "      <td>1</td>\n",
       "    </tr>\n",
       "    <tr>\n",
       "      <th>1453</th>\n",
       "      <td>0.0</td>\n",
       "      <td>0.0</td>\n",
       "      <td>0.0</td>\n",
       "      <td>0.0</td>\n",
       "      <td>0.0</td>\n",
       "      <td>0.0</td>\n",
       "      <td>0.0</td>\n",
       "      <td>0.0</td>\n",
       "      <td>0.0</td>\n",
       "      <td>0.0</td>\n",
       "      <td>...</td>\n",
       "      <td>0.0</td>\n",
       "      <td>0.0</td>\n",
       "      <td>0.0</td>\n",
       "      <td>0.0</td>\n",
       "      <td>0.0</td>\n",
       "      <td>0.0</td>\n",
       "      <td>0.0</td>\n",
       "      <td>0.0</td>\n",
       "      <td>0.0</td>\n",
       "      <td>2</td>\n",
       "    </tr>\n",
       "    <tr>\n",
       "      <th>27</th>\n",
       "      <td>0.0</td>\n",
       "      <td>0.0</td>\n",
       "      <td>0.0</td>\n",
       "      <td>0.0</td>\n",
       "      <td>0.0</td>\n",
       "      <td>0.0</td>\n",
       "      <td>0.0</td>\n",
       "      <td>0.0</td>\n",
       "      <td>0.0</td>\n",
       "      <td>0.0</td>\n",
       "      <td>...</td>\n",
       "      <td>0.0</td>\n",
       "      <td>0.0</td>\n",
       "      <td>0.0</td>\n",
       "      <td>0.0</td>\n",
       "      <td>0.0</td>\n",
       "      <td>0.0</td>\n",
       "      <td>0.0</td>\n",
       "      <td>0.0</td>\n",
       "      <td>0.0</td>\n",
       "      <td>0</td>\n",
       "    </tr>\n",
       "    <tr>\n",
       "      <th>4340</th>\n",
       "      <td>0.0</td>\n",
       "      <td>0.0</td>\n",
       "      <td>0.0</td>\n",
       "      <td>0.0</td>\n",
       "      <td>0.0</td>\n",
       "      <td>0.0</td>\n",
       "      <td>0.0</td>\n",
       "      <td>0.0</td>\n",
       "      <td>0.0</td>\n",
       "      <td>0.0</td>\n",
       "      <td>...</td>\n",
       "      <td>0.0</td>\n",
       "      <td>0.0</td>\n",
       "      <td>0.0</td>\n",
       "      <td>0.0</td>\n",
       "      <td>0.0</td>\n",
       "      <td>0.0</td>\n",
       "      <td>0.0</td>\n",
       "      <td>0.0</td>\n",
       "      <td>0.0</td>\n",
       "      <td>8</td>\n",
       "    </tr>\n",
       "    <tr>\n",
       "      <th>3129</th>\n",
       "      <td>0.0</td>\n",
       "      <td>0.0</td>\n",
       "      <td>0.0</td>\n",
       "      <td>0.0</td>\n",
       "      <td>0.0</td>\n",
       "      <td>0.0</td>\n",
       "      <td>0.0</td>\n",
       "      <td>0.0</td>\n",
       "      <td>0.0</td>\n",
       "      <td>0.0</td>\n",
       "      <td>...</td>\n",
       "      <td>0.0</td>\n",
       "      <td>0.0</td>\n",
       "      <td>0.0</td>\n",
       "      <td>0.0</td>\n",
       "      <td>0.0</td>\n",
       "      <td>0.0</td>\n",
       "      <td>0.0</td>\n",
       "      <td>0.0</td>\n",
       "      <td>0.0</td>\n",
       "      <td>6</td>\n",
       "    </tr>\n",
       "  </tbody>\n",
       "</table>\n",
       "<p>5 rows × 401 columns</p>\n",
       "</div>"
      ],
      "text/plain": [
       "       x1   x2   x3   x4   x5   x6   x7   x8   x9  x10  ...  x392  x393  x394  \\\n",
       "565   0.0  0.0  0.0  0.0  0.0  0.0  0.0  0.0  0.0  0.0  ...   0.0   0.0   0.0   \n",
       "1453  0.0  0.0  0.0  0.0  0.0  0.0  0.0  0.0  0.0  0.0  ...   0.0   0.0   0.0   \n",
       "27    0.0  0.0  0.0  0.0  0.0  0.0  0.0  0.0  0.0  0.0  ...   0.0   0.0   0.0   \n",
       "4340  0.0  0.0  0.0  0.0  0.0  0.0  0.0  0.0  0.0  0.0  ...   0.0   0.0   0.0   \n",
       "3129  0.0  0.0  0.0  0.0  0.0  0.0  0.0  0.0  0.0  0.0  ...   0.0   0.0   0.0   \n",
       "\n",
       "      x395  x396  x397  x398  x399  x400  y  \n",
       "565    0.0   0.0   0.0   0.0   0.0   0.0  1  \n",
       "1453   0.0   0.0   0.0   0.0   0.0   0.0  2  \n",
       "27     0.0   0.0   0.0   0.0   0.0   0.0  0  \n",
       "4340   0.0   0.0   0.0   0.0   0.0   0.0  8  \n",
       "3129   0.0   0.0   0.0   0.0   0.0   0.0  6  \n",
       "\n",
       "[5 rows x 401 columns]"
      ]
     },
     "execution_count": 3,
     "metadata": {},
     "output_type": "execute_result"
    }
   ],
   "source": [
    "# Loading data from mat to Dataframe\n",
    "m,n=mat['X'].shape\n",
    "\n",
    "data=pd.DataFrame()\n",
    "for i in range(n):\n",
    "    data[f'x{i+1}']=mat['X'][:,i]\n",
    "\n",
    "# Converting label 10 to label 0\n",
    "data['y']=mat['y']\n",
    "data.loc[data['y']==10,'y']=0\n",
    "\n",
    "print('TRAINING DATASET SHAPE : {0} X {1}'.format(*data.shape))\n",
    "data.sample(5)"
   ]
  },
  {
   "cell_type": "code",
   "execution_count": 4,
   "metadata": {},
   "outputs": [],
   "source": [
    "def displayData(X):\n",
    "    m,n=X.shape\n",
    "    width=int(np.sqrt(n))\n",
    "    height=int(n/width)\n",
    "    rows=int(np.floor(np.sqrt(m)))\n",
    "    cols=int(np.ceil(m/rows))\n",
    "    totalWidth=cols+cols*width\n",
    "    displayArray=np.zeros((1,totalWidth))\n",
    "    rowPadding=np.ones((1,totalWidth))\n",
    "    colPadding=np.ones((height,1))\n",
    "    index=0\n",
    "    for i in range(rows):\n",
    "        row=colPadding*0\n",
    "        for j in range(cols):\n",
    "            if index<m:\n",
    "                x=X[index].reshape((width,height)).T\n",
    "                index=index+1\n",
    "            else:\n",
    "                x=np.zeros((width,height)).T\n",
    "            row=np.column_stack((row,x))\n",
    "            if j<cols-1:\n",
    "                row=np.column_stack((row,colPadding))\n",
    "        displayArray=np.row_stack((displayArray,row))\n",
    "        if i<rows-1:\n",
    "            displayArray=np.row_stack((displayArray,rowPadding))\n",
    "    displayArray=np.row_stack((displayArray,rowPadding*0))\n",
    "    plt.imshow(displayArray,cmap='gray')\n",
    "    plt.axis('off')"
   ]
  },
  {
   "cell_type": "code",
   "execution_count": 5,
   "metadata": {},
   "outputs": [
    {
     "data": {
      "image/png": "[encoded data removed]",
      "text/plain": [
       "<Figure size 432x288 with 1 Axes>"
      ]
     },
     "metadata": {
      "needs_background": "light"
     },
     "output_type": "display_data"
    }
   ],
   "source": [
    "displayData(data.sample(100).iloc[:,:-1].values)"
   ]
  },
  {
   "cell_type": "code",
   "execution_count": 6,
   "metadata": {},
   "outputs": [],
   "source": [
    "def sigmoid(z):\n",
    "    sigma=1/(1+np.exp(-z))\n",
    "    return sigma"
   ]
  },
  {
   "cell_type": "code",
   "execution_count": 8,
   "metadata": {},
   "outputs": [],
   "source": [
    "def sigmoidGradient(z):\n",
    "    g=np.multiply(sigmoid(z),(1-sigmoid(z)))\n",
    "    return g"
   ]
  },
  {
   "cell_type": "code",
   "execution_count": 9,
   "metadata": {},
   "outputs": [
    {
     "data": {
      "text/plain": [
       "0.25"
      ]
     },
     "execution_count": 9,
     "metadata": {},
     "output_type": "execute_result"
    }
   ],
   "source": [
    "sigmoidGradient(0)"
   ]
  },
  {
   "cell_type": "code",
   "execution_count": 10,
   "metadata": {},
   "outputs": [],
   "source": [
    "def randInitializeWeights(lIn,lOut):\n",
    "    '''Randomly initialize the weights with a matix of shape lOut X (lIn+1)'''\n",
    "    epsilonInit=np.sqrt(6)/np.sqrt(lIn+lOut)\n",
    "    W=np.random.rand(lOut,lIn+1)*2*epsilonInit-epsilonInit\n",
    "    return W"
   ]
  },
  {
   "cell_type": "code",
   "execution_count": 11,
   "metadata": {},
   "outputs": [
    {
     "data": {
      "image/png": "[encoded data removed]",
      "text/plain": [
       "<Figure size 432x288 with 1 Axes>"
      ]
     },
     "metadata": {
      "needs_background": "light"
     },
     "output_type": "display_data"
    }
   ],
   "source": [
    "lIn=400\n",
    "lOut=10\n",
    "\n",
    "w=randInitializeWeights(lIn,lOut).reshape(-1).tolist()\n",
    "sns.distplot(w,kde=False);"
   ]
  },
  {
   "cell_type": "code",
   "execution_count": 12,
   "metadata": {},
   "outputs": [],
   "source": [
    "\n",
    "def computeCost(X,y,params,inputLayerSize,hiddenLayerSize,lmbda):\n",
    "    '''Computes the cost and the gradient using backpropagation for a 2 layered neural network'''\n",
    "    m,n=X.shape\n",
    "    numLabels=y.shape[1]\n",
    "    # Reshape params into theta1 and theta2 matrices\n",
    "    theta1=params[:,:hiddenLayerSize*(inputLayerSize+1)].reshape((hiddenLayerSize,inputLayerSize+1))\n",
    "    theta2=params[:,hiddenLayerSize*(inputLayerSize+1):].reshape((numLabels,hiddenLayerSize+1))\n",
    "    # Feed Forward Propogation\n",
    "    a1=np.column_stack((np.ones(m),X))\n",
    "    z2=np.dot(a1,theta1.T)\n",
    "    a2=sigmoid(z2)\n",
    "    a2=np.column_stack((np.ones(shape=(a2.shape[0],1)),a2))\n",
    "    z3=np.dot(a2,theta2.T)\n",
    "    a3=sigmoid(z3)\n",
    "    h=a3\n",
    "    # Computing cost\n",
    "    J=(-1/m)*np.sum(np.multiply(y,np.log(h))+np.multiply(1-y,np.log(1-h)))\n",
    "    # Adding regularization term\n",
    "    J=J+(lmbda/(2*m))*(np.sum(np.power(theta1[:,1:],2))+np.sum(np.power(theta2[:,1:],2)))\n",
    "    # Backpropagation\n",
    "    # Calculating error for hidden and output layer\n",
    "    delta3=h-y\n",
    "    delta2=np.multiply(np.dot(delta3,theta2),np.multiply(a2,1-a2))[:,1:]\n",
    "    # Calculating Gradient\n",
    "    D2=np.dot(delta3.T,a2)\n",
    "    D1=np.dot(delta2.T,a1)\n",
    "    # Adding regularization term\n",
    "    grad2=(1/m)*D2+(lmbda/m)*np.column_stack((np.zeros((theta2.shape[0],1)),theta2[:,1:]))\n",
    "    grad1=(1/m)*D1+(lmbda/m)*np.column_stack((np.zeros((theta1.shape[0],1)),theta1[:,1:]))\n",
    "    # Unroll gradients into one vector\n",
    "    grad=grad1.reshape((1,-1))\n",
    "    grad=np.column_stack((grad,grad2.reshape((1,-1))))\n",
    "    return J,grad"
   ]
  },
  {
   "cell_type": "code",
   "execution_count": 13,
   "metadata": {},
   "outputs": [
    {
     "name": "stdout",
     "output_type": "stream",
     "text": [
      "X : (5000, 400)\n",
      "y : (5000, 10)\n",
      "Theta1 : (25, 401)\n",
      "Theta2 : (10, 26)\n"
     ]
    }
   ],
   "source": [
    "X=mat['X']\n",
    "# One-hot encoding of target variable\n",
    "y=pd.get_dummies(mat['y'].reshape(m)).values\n",
    "\n",
    "# Loading weights\n",
    "weights=loadmat('./ex4weights.mat')\n",
    "theta1=weights['Theta1']\n",
    "theta2=weights['Theta2']\n",
    "params=theta1.reshape((1,-1))\n",
    "params=np.column_stack((params,theta2.reshape((1,-1))))\n",
    "\n",
    "inputLayerSize=400\n",
    "hiddenLayerSize=25\n",
    "\n",
    "print(f'X : {X.shape}')\n",
    "print(f'y : {y.shape}')\n",
    "print(f'Theta1 : {theta1.shape}')\n",
    "print(f'Theta2 : {theta2.shape}')"
   ]
  },
  {
   "cell_type": "code",
   "execution_count": 14,
   "metadata": {},
   "outputs": [
    {
     "name": "stdout",
     "output_type": "stream",
     "text": [
      "COST : 0.2876\n"
     ]
    }
   ],
   "source": [
    "lmbda=0\n",
    "J,grad=computeCost(X,y,params,inputLayerSize,hiddenLayerSize,lmbda)\n",
    "print(f'COST : {J:.4f}')\n"
   ]
  },
  {
   "cell_type": "code",
   "execution_count": 15,
   "metadata": {},
   "outputs": [],
   "source": [
    "\n",
    "def computeNumericalGradient(J,theta):\n",
    "    '''Computes the numerical gradient using two point slope equation'''\n",
    "    numGrad=np.zeros(theta.shape)\n",
    "    perturb=np.zeros(theta.shape)\n",
    "    epsilon=1e-4\n",
    "    for i in range(theta.size):\n",
    "        perturb[:,i]=epsilon\n",
    "        numGrad[:,i]=(J(theta+perturb)-J(theta-perturb))/(2*epsilon)\n",
    "        perturb[:,i]=0\n",
    "    return numGrad"
   ]
  },
  {
   "cell_type": "code",
   "execution_count": 16,
   "metadata": {},
   "outputs": [],
   "source": [
    "def checkNNGradients(lmbda):\n",
    "    '''Creates a small neural network to check the backpropagation gradients'''\n",
    "    inputLayerSize=3\n",
    "    hiddenLayerSize=5\n",
    "    numLabels=3\n",
    "    m=50\n",
    "    # Generating some random test data\n",
    "    theta1=randInitializeWeights(hiddenLayerSize,inputLayerSize)\n",
    "    theta2=randInitializeWeights(numLabels,hiddenLayerSize)\n",
    "    X=randInitializeWeights(inputLayerSize-1,m)\n",
    "    y=1+np.mod(range(m),numLabels)\n",
    "    # One-hot encoding target variable\n",
    "    y=pd.get_dummies(y.reshape(m)).values\n",
    "    # Unroll into vector\n",
    "    thetas=theta1.reshape((1,-1))\n",
    "    thetas=np.column_stack((thetas,theta2.reshape((1,-1))))\n",
    "    # Gradient from backpropagation\n",
    "    J,grad=computeCost(X,y,thetas,inputLayerSize,hiddenLayerSize,lmbda)\n",
    "    # Computing numerical gradient\n",
    "    def cost(thetas):\n",
    "        J,grad=computeCost(X,y,thetas,inputLayerSize,hiddenLayerSize,lmbda)\n",
    "        return J\n",
    "    numGrad=computeNumericalGradient(cost,thetas)\n",
    "    # Evaluating the norm of the differences between two solution\n",
    "    diff=np.linalg.norm(numGrad-grad)/np.linalg.norm(numGrad+grad)\n",
    "    return grad,numGrad,diff"
   ]
  },
  {
   "cell_type": "code",
   "execution_count": 17,
   "metadata": {},
   "outputs": [
    {
     "name": "stdout",
     "output_type": "stream",
     "text": [
      "DIFFERENCE : 2.5132716727201516e-10\n"
     ]
    },
    {
     "data": {
      "text/html": [
       "<div>\n",
       "<style scoped>\n",
       "    .dataframe tbody tr th:only-of-type {\n",
       "        vertical-align: middle;\n",
       "    }\n",
       "\n",
       "    .dataframe tbody tr th {\n",
       "        vertical-align: top;\n",
       "    }\n",
       "\n",
       "    .dataframe thead th {\n",
       "        text-align: right;\n",
       "    }\n",
       "</style>\n",
       "<table border=\"1\" class=\"dataframe\">\n",
       "  <thead>\n",
       "    <tr style=\"text-align: right;\">\n",
       "      <th></th>\n",
       "      <th>grad (Backprop)</th>\n",
       "      <th>grad (numerical)</th>\n",
       "    </tr>\n",
       "  </thead>\n",
       "  <tbody>\n",
       "    <tr>\n",
       "      <th>0</th>\n",
       "      <td>0.014160</td>\n",
       "      <td>0.014160</td>\n",
       "    </tr>\n",
       "    <tr>\n",
       "      <th>1</th>\n",
       "      <td>0.000827</td>\n",
       "      <td>0.000827</td>\n",
       "    </tr>\n",
       "    <tr>\n",
       "      <th>2</th>\n",
       "      <td>0.003570</td>\n",
       "      <td>0.003570</td>\n",
       "    </tr>\n",
       "    <tr>\n",
       "      <th>3</th>\n",
       "      <td>-0.000612</td>\n",
       "      <td>-0.000612</td>\n",
       "    </tr>\n",
       "    <tr>\n",
       "      <th>4</th>\n",
       "      <td>-0.007682</td>\n",
       "      <td>-0.007682</td>\n",
       "    </tr>\n",
       "    <tr>\n",
       "      <th>5</th>\n",
       "      <td>0.002581</td>\n",
       "      <td>0.002581</td>\n",
       "    </tr>\n",
       "    <tr>\n",
       "      <th>6</th>\n",
       "      <td>-0.001583</td>\n",
       "      <td>-0.001583</td>\n",
       "    </tr>\n",
       "    <tr>\n",
       "      <th>7</th>\n",
       "      <td>0.000625</td>\n",
       "      <td>0.000625</td>\n",
       "    </tr>\n",
       "    <tr>\n",
       "      <th>8</th>\n",
       "      <td>0.038622</td>\n",
       "      <td>0.038622</td>\n",
       "    </tr>\n",
       "    <tr>\n",
       "      <th>9</th>\n",
       "      <td>0.003937</td>\n",
       "      <td>0.003937</td>\n",
       "    </tr>\n",
       "    <tr>\n",
       "      <th>10</th>\n",
       "      <td>0.005375</td>\n",
       "      <td>0.005375</td>\n",
       "    </tr>\n",
       "    <tr>\n",
       "      <th>11</th>\n",
       "      <td>0.000347</td>\n",
       "      <td>0.000347</td>\n",
       "    </tr>\n",
       "    <tr>\n",
       "      <th>12</th>\n",
       "      <td>-0.008190</td>\n",
       "      <td>-0.008190</td>\n",
       "    </tr>\n",
       "    <tr>\n",
       "      <th>13</th>\n",
       "      <td>-0.001032</td>\n",
       "      <td>-0.001032</td>\n",
       "    </tr>\n",
       "    <tr>\n",
       "      <th>14</th>\n",
       "      <td>-0.001648</td>\n",
       "      <td>-0.001648</td>\n",
       "    </tr>\n",
       "    <tr>\n",
       "      <th>15</th>\n",
       "      <td>0.000194</td>\n",
       "      <td>0.000194</td>\n",
       "    </tr>\n",
       "    <tr>\n",
       "      <th>16</th>\n",
       "      <td>0.001768</td>\n",
       "      <td>0.001768</td>\n",
       "    </tr>\n",
       "    <tr>\n",
       "      <th>17</th>\n",
       "      <td>0.002497</td>\n",
       "      <td>0.002497</td>\n",
       "    </tr>\n",
       "    <tr>\n",
       "      <th>18</th>\n",
       "      <td>0.002963</td>\n",
       "      <td>0.002963</td>\n",
       "    </tr>\n",
       "    <tr>\n",
       "      <th>19</th>\n",
       "      <td>-0.000384</td>\n",
       "      <td>-0.000384</td>\n",
       "    </tr>\n",
       "    <tr>\n",
       "      <th>20</th>\n",
       "      <td>0.181248</td>\n",
       "      <td>0.181248</td>\n",
       "    </tr>\n",
       "    <tr>\n",
       "      <th>21</th>\n",
       "      <td>0.096657</td>\n",
       "      <td>0.096657</td>\n",
       "    </tr>\n",
       "    <tr>\n",
       "      <th>22</th>\n",
       "      <td>0.120181</td>\n",
       "      <td>0.120181</td>\n",
       "    </tr>\n",
       "    <tr>\n",
       "      <th>23</th>\n",
       "      <td>0.111685</td>\n",
       "      <td>0.111685</td>\n",
       "    </tr>\n",
       "    <tr>\n",
       "      <th>24</th>\n",
       "      <td>0.116417</td>\n",
       "      <td>0.116417</td>\n",
       "    </tr>\n",
       "    <tr>\n",
       "      <th>25</th>\n",
       "      <td>0.071136</td>\n",
       "      <td>0.071136</td>\n",
       "    </tr>\n",
       "    <tr>\n",
       "      <th>26</th>\n",
       "      <td>0.112971</td>\n",
       "      <td>0.112971</td>\n",
       "    </tr>\n",
       "    <tr>\n",
       "      <th>27</th>\n",
       "      <td>0.057856</td>\n",
       "      <td>0.057856</td>\n",
       "    </tr>\n",
       "    <tr>\n",
       "      <th>28</th>\n",
       "      <td>0.076517</td>\n",
       "      <td>0.076517</td>\n",
       "    </tr>\n",
       "    <tr>\n",
       "      <th>29</th>\n",
       "      <td>0.071866</td>\n",
       "      <td>0.071866</td>\n",
       "    </tr>\n",
       "    <tr>\n",
       "      <th>30</th>\n",
       "      <td>0.072288</td>\n",
       "      <td>0.072288</td>\n",
       "    </tr>\n",
       "    <tr>\n",
       "      <th>31</th>\n",
       "      <td>0.044969</td>\n",
       "      <td>0.044969</td>\n",
       "    </tr>\n",
       "    <tr>\n",
       "      <th>32</th>\n",
       "      <td>-0.059681</td>\n",
       "      <td>-0.059681</td>\n",
       "    </tr>\n",
       "    <tr>\n",
       "      <th>33</th>\n",
       "      <td>-0.031060</td>\n",
       "      <td>-0.031060</td>\n",
       "    </tr>\n",
       "    <tr>\n",
       "      <th>34</th>\n",
       "      <td>-0.041812</td>\n",
       "      <td>-0.041812</td>\n",
       "    </tr>\n",
       "    <tr>\n",
       "      <th>35</th>\n",
       "      <td>-0.038080</td>\n",
       "      <td>-0.038080</td>\n",
       "    </tr>\n",
       "    <tr>\n",
       "      <th>36</th>\n",
       "      <td>-0.040940</td>\n",
       "      <td>-0.040940</td>\n",
       "    </tr>\n",
       "    <tr>\n",
       "      <th>37</th>\n",
       "      <td>-0.024844</td>\n",
       "      <td>-0.024844</td>\n",
       "    </tr>\n",
       "  </tbody>\n",
       "</table>\n",
       "</div>"
      ],
      "text/plain": [
       "    grad (Backprop)  grad (numerical)\n",
       "0          0.014160          0.014160\n",
       "1          0.000827          0.000827\n",
       "2          0.003570          0.003570\n",
       "3         -0.000612         -0.000612\n",
       "4         -0.007682         -0.007682\n",
       "5          0.002581          0.002581\n",
       "6         -0.001583         -0.001583\n",
       "7          0.000625          0.000625\n",
       "8          0.038622          0.038622\n",
       "9          0.003937          0.003937\n",
       "10         0.005375          0.005375\n",
       "11         0.000347          0.000347\n",
       "12        -0.008190         -0.008190\n",
       "13        -0.001032         -0.001032\n",
       "14        -0.001648         -0.001648\n",
       "15         0.000194          0.000194\n",
       "16         0.001768          0.001768\n",
       "17         0.002497          0.002497\n",
       "18         0.002963          0.002963\n",
       "19        -0.000384         -0.000384\n",
       "20         0.181248          0.181248\n",
       "21         0.096657          0.096657\n",
       "22         0.120181          0.120181\n",
       "23         0.111685          0.111685\n",
       "24         0.116417          0.116417\n",
       "25         0.071136          0.071136\n",
       "26         0.112971          0.112971\n",
       "27         0.057856          0.057856\n",
       "28         0.076517          0.076517\n",
       "29         0.071866          0.071866\n",
       "30         0.072288          0.072288\n",
       "31         0.044969          0.044969\n",
       "32        -0.059681         -0.059681\n",
       "33        -0.031060         -0.031060\n",
       "34        -0.041812         -0.041812\n",
       "35        -0.038080         -0.038080\n",
       "36        -0.040940         -0.040940\n",
       "37        -0.024844         -0.024844"
      ]
     },
     "execution_count": 17,
     "metadata": {},
     "output_type": "execute_result"
    }
   ],
   "source": [
    "\n",
    "grad,numGrad,diff=checkNNGradients(0)\n",
    "print(f'DIFFERENCE : {diff}')\n",
    "pd.DataFrame(data={'grad (Backprop)':grad.reshape(-1),'grad (numerical)':numGrad.reshape(-1)})"
   ]
  },
  {
   "cell_type": "code",
   "execution_count": 18,
   "metadata": {},
   "outputs": [],
   "source": [
    "def gradientDescent(X,y,inputLayerSize,hiddenLayerSize,alpha,lmbda,epoch,batchSize):\n",
    "    m=X.shape[0]\n",
    "    # One-hot encoding of target variable\n",
    "    y=pd.get_dummies(y.reshape(-1)).values\n",
    "    # Initializing parameters randomly\n",
    "    labels=y.shape[1]\n",
    "    theta1=randInitializeWeights(inputLayerSize,hiddenLayerSize)\n",
    "    theta2=randInitializeWeights(hiddenLayerSize,labels)\n",
    "    # Calculating iterations\n",
    "    iterations=int(m/batchSize) if (m%batchSize==0) else int(m/batchSize)+1\n",
    "    jHistory=[]\n",
    "    for i in range(epoch):\n",
    "        for j in range(iterations):\n",
    "            # Setting start and end\n",
    "            start=j*batchSize\n",
    "            end=start+batchSize\n",
    "            end=m if end>m else end\n",
    "            # Unrolling into one vector\n",
    "            params=theta1.reshape((1,-1))\n",
    "            params=np.column_stack((params,theta2.reshape((1,-1))))\n",
    "            # Computing cost and gradient\n",
    "            J,grad=computeCost(X[start:end,:],y[start:end,:],params,inputLayerSize,hiddenLayerSize,lmbda)\n",
    "            # Unrolling vector into grad matrices\n",
    "            grad1=grad[:,:hiddenLayerSize*(inputLayerSize+1)].reshape((hiddenLayerSize,inputLayerSize+1))\n",
    "            grad2=grad[:,hiddenLayerSize*(inputLayerSize+1):].reshape((labels,hiddenLayerSize+1))\n",
    "            # Update rule\n",
    "            theta1=theta1-alpha*grad1\n",
    "            theta2=theta2-alpha*grad2\n",
    "            jHistory.append(J)    \n",
    "            print(f'EPOCH : {i+1}\\tITERATIONS : {j+1}\\t\\tCOST : {J:.3f}',end='\\r')\n",
    "    df=pd.DataFrame({'Total Iterations':range(epoch*iterations),'Cost Function':jHistory})\n",
    "    sns.lineplot(data=df,x='Total Iterations',y='Cost Function');\n",
    "    return theta1,theta2"
   ]
  },
  {
   "cell_type": "code",
   "execution_count": 19,
   "metadata": {},
   "outputs": [],
   "source": [
    "def predictNN(theta1,theta2,X):\n",
    "    '''Predict the label of an input given a trained neural network'''\n",
    "    m,n=X.shape\n",
    "    # Feed Forward Propogation\n",
    "    a1=np.column_stack((np.ones(m),X))\n",
    "    z2=np.dot(a1,theta1.T)\n",
    "    a2=sigmoid(z2)\n",
    "    a2=np.column_stack((np.ones(shape=(a2.shape[0],1)),a2))\n",
    "    z3=np.dot(a2,theta2.T)\n",
    "    a3=sigmoid(z3)\n",
    "    h=a3\n",
    "    labels=h.argmax(axis=1)\n",
    "    return labels.reshape((m,1))"
   ]
  },
  {
   "cell_type": "code",
   "execution_count": 20,
   "metadata": {},
   "outputs": [],
   "source": [
    "def calculateAccuracy(h,y):\n",
    "    '''Calculates the accuray between the target and prediction'''\n",
    "    m=y.shape[0]\n",
    "    unique,counts=np.unique(h==y,return_counts=True)\n",
    "    dic=dict(zip(unique,counts))\n",
    "    accuracy=(dic[True]/m)*100\n",
    "    return accuracy"
   ]
  },
  {
   "cell_type": "code",
   "execution_count": 21,
   "metadata": {},
   "outputs": [
    {
     "name": "stdout",
     "output_type": "stream",
     "text": [
      "TRAIN SET : (4500, 400)\n",
      "TEST SET : (500, 400)\n"
     ]
    }
   ],
   "source": [
    "\n",
    "data=data.sample(frac=1,random_state=43)\n",
    "\n",
    "limit=4500\n",
    "xTrain=data.values[:limit,:-1]\n",
    "yTrain=data['y'].values[:limit].reshape((-1,1))\n",
    "xTest=data.values[limit:,:-1]\n",
    "yTest=data['y'].values[limit:].reshape((-1,1))\n",
    "\n",
    "print(f'TRAIN SET : {xTrain.shape}')\n",
    "print(f'TEST SET : {xTest.shape}')"
   ]
  },
  {
   "cell_type": "code",
   "execution_count": 22,
   "metadata": {},
   "outputs": [
    {
     "name": "stdout",
     "output_type": "stream",
     "text": [
      "EPOCH : 3000\tITERATIONS : 1\t\tCOST : 0.266\r"
     ]
    },
    {
     "data": {
      "image/png": "[encoded data removed]",
      "text/plain": [
       "<Figure size 432x288 with 1 Axes>"
      ]
     },
     "metadata": {
      "needs_background": "light"
     },
     "output_type": "display_data"
    }
   ],
   "source": [
    "inputLayerSize=400\n",
    "hiddenLayerSize=25\n",
    "\n",
    "alpha=1\n",
    "lmbda=0.5\n",
    "epoch=3000\n",
    "batchSize=xTrain.shape[0]\n",
    "\n",
    "theta1,theta2=gradientDescent(xTrain,yTrain,inputLayerSize,hiddenLayerSize,alpha,lmbda,epoch,batchSize)"
   ]
  },
  {
   "cell_type": "code",
   "execution_count": 23,
   "metadata": {},
   "outputs": [
    {
     "name": "stdout",
     "output_type": "stream",
     "text": [
      "TRAIN ACCURACY : 98.711%\n"
     ]
    }
   ],
   "source": [
    "h=predictNN(theta1,theta2,xTrain)\n",
    "accuracy=calculateAccuracy(h,yTrain)\n",
    "print(f'TRAIN ACCURACY : {accuracy:.3f}%')"
   ]
  },
  {
   "cell_type": "code",
   "execution_count": 24,
   "metadata": {},
   "outputs": [
    {
     "name": "stdout",
     "output_type": "stream",
     "text": [
      "TEST ACCURACY : 94.400%\n"
     ]
    }
   ],
   "source": [
    "\n",
    "h=predictNN(theta1,theta2,xTest)\n",
    "accuracy=calculateAccuracy(h,yTest)\n",
    "print(f'TEST ACCURACY : {accuracy:.3f}%')"
   ]
  },
  {
   "cell_type": "code",
   "execution_count": null,
   "metadata": {},
   "outputs": [],
   "source": []
  }
 ],
 "metadata": {
  "kernelspec": {
   "display_name": "Python 3",
   "language": "python",
   "name": "python3"
  },
  "language_info": {
   "codemirror_mode": {
    "name": "ipython",
    "version": 3
   },
   "file_extension": ".py",
   "mimetype": "text/x-python",
   "name": "python",
   "nbconvert_exporter": "python",
   "pygments_lexer": "ipython3",
   "version": "3.7.6"
  }
 },
 "nbformat": 4,
 "nbformat_minor": 4
}
