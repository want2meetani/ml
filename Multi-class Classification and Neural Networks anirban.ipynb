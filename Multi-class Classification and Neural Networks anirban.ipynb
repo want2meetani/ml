{
 "cells": [
  {
   "cell_type": "code",
   "execution_count": 1,
   "metadata": {},
   "outputs": [],
   "source": [
    "import matplotlib.pyplot as plt\n",
    "import seaborn as sns\n",
    "import pandas as pd\n",
    "import numpy as np\n",
    "%matplotlib inline\n",
    "\n",
    "from scipy.io import loadmat"
   ]
  },
  {
   "cell_type": "code",
   "execution_count": 2,
   "metadata": {},
   "outputs": [
    {
     "name": "stdout",
     "output_type": "stream",
     "text": [
      "__header__\n",
      "__version__\n",
      "__globals__\n",
      "X\n",
      "y\n"
     ]
    }
   ],
   "source": [
    "\n",
    "# Loading Mat file\n",
    "mat=loadmat('ex3data1.mat')\n",
    "print(*mat.keys(),sep='\\n')"
   ]
  },
  {
   "cell_type": "code",
   "execution_count": 3,
   "metadata": {},
   "outputs": [
    {
     "name": "stdout",
     "output_type": "stream",
     "text": [
      "TRAINING DATASET SHAPE : 5000 X 401\n"
     ]
    },
    {
     "data": {
      "text/html": [
       "<div>\n",
       "<style scoped>\n",
       "    .dataframe tbody tr th:only-of-type {\n",
       "        vertical-align: middle;\n",
       "    }\n",
       "\n",
       "    .dataframe tbody tr th {\n",
       "        vertical-align: top;\n",
       "    }\n",
       "\n",
       "    .dataframe thead th {\n",
       "        text-align: right;\n",
       "    }\n",
       "</style>\n",
       "<table border=\"1\" class=\"dataframe\">\n",
       "  <thead>\n",
       "    <tr style=\"text-align: right;\">\n",
       "      <th></th>\n",
       "      <th>x1</th>\n",
       "      <th>x2</th>\n",
       "      <th>x3</th>\n",
       "      <th>x4</th>\n",
       "      <th>x5</th>\n",
       "      <th>x6</th>\n",
       "      <th>x7</th>\n",
       "      <th>x8</th>\n",
       "      <th>x9</th>\n",
       "      <th>x10</th>\n",
       "      <th>...</th>\n",
       "      <th>x392</th>\n",
       "      <th>x393</th>\n",
       "      <th>x394</th>\n",
       "      <th>x395</th>\n",
       "      <th>x396</th>\n",
       "      <th>x397</th>\n",
       "      <th>x398</th>\n",
       "      <th>x399</th>\n",
       "      <th>x400</th>\n",
       "      <th>y</th>\n",
       "    </tr>\n",
       "  </thead>\n",
       "  <tbody>\n",
       "    <tr>\n",
       "      <th>355</th>\n",
       "      <td>0.0</td>\n",
       "      <td>0.0</td>\n",
       "      <td>0.0</td>\n",
       "      <td>0.0</td>\n",
       "      <td>0.0</td>\n",
       "      <td>0.0</td>\n",
       "      <td>0.0</td>\n",
       "      <td>0.0</td>\n",
       "      <td>0.0</td>\n",
       "      <td>0.0</td>\n",
       "      <td>...</td>\n",
       "      <td>0.0</td>\n",
       "      <td>0.0</td>\n",
       "      <td>0.0</td>\n",
       "      <td>0.0</td>\n",
       "      <td>0.0</td>\n",
       "      <td>0.0</td>\n",
       "      <td>0.0</td>\n",
       "      <td>0.0</td>\n",
       "      <td>0.0</td>\n",
       "      <td>0</td>\n",
       "    </tr>\n",
       "    <tr>\n",
       "      <th>918</th>\n",
       "      <td>0.0</td>\n",
       "      <td>0.0</td>\n",
       "      <td>0.0</td>\n",
       "      <td>0.0</td>\n",
       "      <td>0.0</td>\n",
       "      <td>0.0</td>\n",
       "      <td>0.0</td>\n",
       "      <td>0.0</td>\n",
       "      <td>0.0</td>\n",
       "      <td>0.0</td>\n",
       "      <td>...</td>\n",
       "      <td>0.0</td>\n",
       "      <td>0.0</td>\n",
       "      <td>0.0</td>\n",
       "      <td>0.0</td>\n",
       "      <td>0.0</td>\n",
       "      <td>0.0</td>\n",
       "      <td>0.0</td>\n",
       "      <td>0.0</td>\n",
       "      <td>0.0</td>\n",
       "      <td>1</td>\n",
       "    </tr>\n",
       "    <tr>\n",
       "      <th>3750</th>\n",
       "      <td>0.0</td>\n",
       "      <td>0.0</td>\n",
       "      <td>0.0</td>\n",
       "      <td>0.0</td>\n",
       "      <td>0.0</td>\n",
       "      <td>0.0</td>\n",
       "      <td>0.0</td>\n",
       "      <td>0.0</td>\n",
       "      <td>0.0</td>\n",
       "      <td>0.0</td>\n",
       "      <td>...</td>\n",
       "      <td>0.0</td>\n",
       "      <td>0.0</td>\n",
       "      <td>0.0</td>\n",
       "      <td>0.0</td>\n",
       "      <td>0.0</td>\n",
       "      <td>0.0</td>\n",
       "      <td>0.0</td>\n",
       "      <td>0.0</td>\n",
       "      <td>0.0</td>\n",
       "      <td>7</td>\n",
       "    </tr>\n",
       "    <tr>\n",
       "      <th>2471</th>\n",
       "      <td>0.0</td>\n",
       "      <td>0.0</td>\n",
       "      <td>0.0</td>\n",
       "      <td>0.0</td>\n",
       "      <td>0.0</td>\n",
       "      <td>0.0</td>\n",
       "      <td>0.0</td>\n",
       "      <td>0.0</td>\n",
       "      <td>0.0</td>\n",
       "      <td>0.0</td>\n",
       "      <td>...</td>\n",
       "      <td>0.0</td>\n",
       "      <td>0.0</td>\n",
       "      <td>0.0</td>\n",
       "      <td>0.0</td>\n",
       "      <td>0.0</td>\n",
       "      <td>0.0</td>\n",
       "      <td>0.0</td>\n",
       "      <td>0.0</td>\n",
       "      <td>0.0</td>\n",
       "      <td>4</td>\n",
       "    </tr>\n",
       "    <tr>\n",
       "      <th>4261</th>\n",
       "      <td>0.0</td>\n",
       "      <td>0.0</td>\n",
       "      <td>0.0</td>\n",
       "      <td>0.0</td>\n",
       "      <td>0.0</td>\n",
       "      <td>0.0</td>\n",
       "      <td>0.0</td>\n",
       "      <td>0.0</td>\n",
       "      <td>0.0</td>\n",
       "      <td>0.0</td>\n",
       "      <td>...</td>\n",
       "      <td>0.0</td>\n",
       "      <td>0.0</td>\n",
       "      <td>0.0</td>\n",
       "      <td>0.0</td>\n",
       "      <td>0.0</td>\n",
       "      <td>0.0</td>\n",
       "      <td>0.0</td>\n",
       "      <td>0.0</td>\n",
       "      <td>0.0</td>\n",
       "      <td>8</td>\n",
       "    </tr>\n",
       "  </tbody>\n",
       "</table>\n",
       "<p>5 rows × 401 columns</p>\n",
       "</div>"
      ],
      "text/plain": [
       "       x1   x2   x3   x4   x5   x6   x7   x8   x9  x10  ...  x392  x393  x394  \\\n",
       "355   0.0  0.0  0.0  0.0  0.0  0.0  0.0  0.0  0.0  0.0  ...   0.0   0.0   0.0   \n",
       "918   0.0  0.0  0.0  0.0  0.0  0.0  0.0  0.0  0.0  0.0  ...   0.0   0.0   0.0   \n",
       "3750  0.0  0.0  0.0  0.0  0.0  0.0  0.0  0.0  0.0  0.0  ...   0.0   0.0   0.0   \n",
       "2471  0.0  0.0  0.0  0.0  0.0  0.0  0.0  0.0  0.0  0.0  ...   0.0   0.0   0.0   \n",
       "4261  0.0  0.0  0.0  0.0  0.0  0.0  0.0  0.0  0.0  0.0  ...   0.0   0.0   0.0   \n",
       "\n",
       "      x395  x396  x397  x398  x399  x400  y  \n",
       "355    0.0   0.0   0.0   0.0   0.0   0.0  0  \n",
       "918    0.0   0.0   0.0   0.0   0.0   0.0  1  \n",
       "3750   0.0   0.0   0.0   0.0   0.0   0.0  7  \n",
       "2471   0.0   0.0   0.0   0.0   0.0   0.0  4  \n",
       "4261   0.0   0.0   0.0   0.0   0.0   0.0  8  \n",
       "\n",
       "[5 rows x 401 columns]"
      ]
     },
     "execution_count": 3,
     "metadata": {},
     "output_type": "execute_result"
    }
   ],
   "source": [
    "# Loading data from mat to Dataframe\n",
    "m,n=mat['X'].shape\n",
    "\n",
    "data=pd.DataFrame()\n",
    "for i in range(n):\n",
    "    data[f'x{i+1}']=mat['X'].T[i]\n",
    "\n",
    "# Converting label 10 to label 0\n",
    "data['y']=mat['y']\n",
    "data.loc[data['y']==10,'y']=0\n",
    "\n",
    "print('TRAINING DATASET SHAPE : {0} X {1}'.format(*data.shape))\n",
    "data.sample(5)"
   ]
  },
  {
   "cell_type": "code",
   "execution_count": 4,
   "metadata": {},
   "outputs": [],
   "source": [
    "def displayData(X):\n",
    "    m,n=X.shape\n",
    "    width=int(np.sqrt(n))\n",
    "    height=int(n/width)\n",
    "    rows=int(np.floor(np.sqrt(m)))\n",
    "    cols=int(np.ceil(m/rows))\n",
    "    totalWidth=cols+cols*width\n",
    "    displayArray=np.zeros((1,totalWidth))\n",
    "    rowPadding=np.ones((1,totalWidth))\n",
    "    colPadding=np.ones((height,1))\n",
    "    index=0\n",
    "    for i in range(rows):\n",
    "        row=colPadding*0\n",
    "        for j in range(cols):\n",
    "            if index<m:\n",
    "                x=X[index].reshape((width,height)).T\n",
    "                index=index+1\n",
    "            else:\n",
    "                x=np.zeros((width,height)).T\n",
    "            row=np.column_stack((row,x))\n",
    "            if j<cols-1:\n",
    "                row=np.column_stack((row,colPadding))\n",
    "        displayArray=np.row_stack((displayArray,row))\n",
    "        if i<rows-1:\n",
    "            displayArray=np.row_stack((displayArray,rowPadding))\n",
    "    displayArray=np.row_stack((displayArray,rowPadding*0))\n",
    "    plt.imshow(displayArray,cmap='gray')\n",
    "    plt.axis('off')"
   ]
  },
  {
   "cell_type": "code",
   "execution_count": 5,
   "metadata": {},
   "outputs": [
    {
     "data": {
      "image/png": "[encoded data removed]",
      "text/plain": [
       "<Figure size 432x288 with 1 Axes>"
      ]
     },
     "metadata": {
      "needs_background": "light"
     },
     "output_type": "display_data"
    }
   ],
   "source": [
    "\n",
    "displayData(data.sample(100).iloc[:,:-1].values)"
   ]
  },
  {
   "cell_type": "code",
   "execution_count": 6,
   "metadata": {},
   "outputs": [],
   "source": [
    "def sigmoid(z):\n",
    "    sigma=1/(1+np.exp(-z))\n",
    "    return sigma"
   ]
  },
  {
   "cell_type": "code",
   "execution_count": 7,
   "metadata": {},
   "outputs": [],
   "source": [
    "\n",
    "def predict(X,theta):\n",
    "    '''Predicts by applying logistic function on linear model'''\n",
    "    z=np.dot(X,theta.T)\n",
    "    h=sigmoid(z)\n",
    "    return h"
   ]
  },
  {
   "cell_type": "code",
   "execution_count": 8,
   "metadata": {},
   "outputs": [],
   "source": [
    "\n",
    "def computeCost(h,y):\n",
    "    '''Computes the cost using Cross Entropy function'''\n",
    "    m=y.shape[0]\n",
    "    J=(-1/m)*np.sum(np.multiply(y,np.log(h))+np.multiply(1-y,np.log(1-h)))\n",
    "    return J"
   ]
  },
  {
   "cell_type": "code",
   "execution_count": 9,
   "metadata": {},
   "outputs": [],
   "source": [
    "def regularizedGradientDescent(X,y,theta,alpha,lmbda,iterations):\n",
    "    '''Minimizes the cost function using Gradient Descent Optimization Algorithm'''\n",
    "    m=X.shape[0]\n",
    "    jHistory=[]\n",
    "    for i in range(iterations):\n",
    "        h=predict(X,theta)\n",
    "        # Computing cost\n",
    "        J=computeCost(h,y)\n",
    "        # Adding the regularized term\n",
    "        J=J+(lmbda/(2*m))*np.sum(np.power(theta[:,1:],2))\n",
    "        jHistory.append(J)\n",
    "        # Parameters update rule\n",
    "        gradient=(alpha/m)*(np.dot((h-y).T,X))\n",
    "        # Adding the regularized term\n",
    "        gradient=gradient+(alpha/m)*lmbda*np.column_stack((np.zeros((1,1)),theta[:,1:]))\n",
    "        theta=theta-gradient\n",
    "    return (theta,jHistory)"
   ]
  },
  {
   "cell_type": "code",
   "execution_count": 10,
   "metadata": {},
   "outputs": [],
   "source": [
    "def oneVsAll(X,Y,alpha,lmbda,iterations):\n",
    "    '''Returns all the classifier parameters in a matrix with shape of classes X features'''\n",
    "    m,n=X.shape\n",
    "    # Initializing theta\n",
    "    intialTheta=np.zeros(shape=(1,n))\n",
    "    labels=np.unique(Y)\n",
    "    thetas=np.zeros(shape=(len(labels),n))\n",
    "    i=0\n",
    "    print('Training classifiers...\\n')\n",
    "    for label in labels:\n",
    "        y=np.zeros(shape=(m,1))\n",
    "        y[Y==label]=1\n",
    "        theta,jHistory=regularizedGradientDescent(X,y,intialTheta,alpha,lmbda,iterations)\n",
    "        thetas[i,:]=theta\n",
    "        print(f'For classifier{label} , J = {jHistory[iterations-1]:.3f}')\n",
    "        i+=1\n",
    "    return thetas"
   ]
  },
  {
   "cell_type": "code",
   "execution_count": 11,
   "metadata": {},
   "outputs": [
    {
     "name": "stdout",
     "output_type": "stream",
     "text": [
      "Training classifiers...\n",
      "\n",
      "For classifier0 , J = 0.016\n",
      "For classifier1 , J = 0.023\n",
      "For classifier2 , J = 0.063\n",
      "For classifier3 , J = 0.067\n",
      "For classifier4 , J = 0.046\n",
      "For classifier5 , J = 0.069\n",
      "For classifier6 , J = 0.030\n",
      "For classifier7 , J = 0.042\n",
      "For classifier8 , J = 0.088\n",
      "For classifier9 , J = 0.083\n"
     ]
    }
   ],
   "source": [
    "m=data.shape[0]\n",
    "\n",
    "X=data.values[:,:-1]\n",
    "# Adding intercept term to the design matrix\n",
    "intercept=np.ones(shape=(m,1))\n",
    "X=np.column_stack((intercept,X))\n",
    "y=data['y'].values.reshape((m,1))\n",
    "\n",
    "alpha=1\n",
    "lmbda=0.3\n",
    "iterations=3000\n",
    "\n",
    "thetas=oneVsAll(X,y,alpha,lmbda,iterations)"
   ]
  },
  {
   "cell_type": "code",
   "execution_count": 12,
   "metadata": {},
   "outputs": [],
   "source": [
    "def predictOneVsAll(thetas,X):\n",
    "    '''Predic the label for a trained One-vs-all classifier. The labels are in the range 0 to 9'''\n",
    "    h=predict(X,thetas)\n",
    "    labels=h.argmax(axis=1)\n",
    "    return labels.reshape((X.shape[0],1))"
   ]
  },
  {
   "cell_type": "code",
   "execution_count": 13,
   "metadata": {},
   "outputs": [],
   "source": [
    "def calculateAccuracy(h,y):\n",
    "    '''Calculates the accuray between the target and prediction'''\n",
    "    m=y.shape[0]\n",
    "    unique,counts=np.unique(h==y,return_counts=True)\n",
    "    dic=dict(zip(unique,counts))\n",
    "    accuracy=(dic[True]/m)*100\n",
    "    return accuracy"
   ]
  },
  {
   "cell_type": "code",
   "execution_count": 14,
   "metadata": {},
   "outputs": [
    {
     "name": "stdout",
     "output_type": "stream",
     "text": [
      "TRAINING ACCURACY : 94.16\n"
     ]
    }
   ],
   "source": [
    "\n",
    "h=predictOneVsAll(thetas,X)\n",
    "accuracy=calculateAccuracy(h,y)\n",
    "print(f'TRAINING ACCURACY : {accuracy:.2f}')"
   ]
  },
  {
   "cell_type": "code",
   "execution_count": 15,
   "metadata": {},
   "outputs": [
    {
     "name": "stdout",
     "output_type": "stream",
     "text": [
      "__header__\n",
      "__version__\n",
      "__globals__\n",
      "Theta1\n",
      "Theta2\n"
     ]
    }
   ],
   "source": [
    "\n",
    "# Loading weights\n",
    "weights=loadmat('ex3weights.mat')\n",
    "print(*weights.keys(),sep='\\n')"
   ]
  },
  {
   "cell_type": "code",
   "execution_count": 16,
   "metadata": {},
   "outputs": [
    {
     "name": "stdout",
     "output_type": "stream",
     "text": [
      "X : (5000, 401)\n",
      "Theta1 : (25, 401)\n",
      "Theta2 : (10, 26)\n"
     ]
    }
   ],
   "source": [
    "theta1=weights['Theta1']\n",
    "theta2=weights['Theta2']\n",
    "print(f'X : {X.shape}')\n",
    "print(f'Theta1 : {theta1.shape}')\n",
    "print(f'Theta2 : {theta2.shape}')"
   ]
  },
  {
   "cell_type": "code",
   "execution_count": 17,
   "metadata": {},
   "outputs": [],
   "source": [
    "def predictNN(theta1,theta2,X):\n",
    "    '''Predict the label of an input given a trained neural network'''\n",
    "    m,n=X.shape\n",
    "    # Feed Forward Propogation\n",
    "    a1=X\n",
    "    z2=np.dot(a1,theta1.T)\n",
    "    a2=sigmoid(z2)\n",
    "    a2=np.column_stack((np.ones(shape=(a2.shape[0],1)),a2))\n",
    "    z3=np.dot(a2,theta2.T)\n",
    "    a3=sigmoid(z3)\n",
    "    h=a3\n",
    "    labels=h.argmax(axis=1)\n",
    "    return labels.reshape((m,1))\n"
   ]
  },
  {
   "cell_type": "code",
   "execution_count": 18,
   "metadata": {},
   "outputs": [
    {
     "name": "stdout",
     "output_type": "stream",
     "text": [
      "TRAINING ACCURACY : 97.52\n"
     ]
    }
   ],
   "source": [
    "# Using label 10 for digit 0\n",
    "y=mat['y']\n",
    "\n",
    "h=predictNN(theta1,theta2,X)\n",
    "# Adding one to h because matlab indexing starts from 1 whereas python indexing starts from 0\n",
    "h+=1\n",
    "\n",
    "accuracy=calculateAccuracy(h,y)\n",
    "print(f'TRAINING ACCURACY : {accuracy:.2f}')"
   ]
  },
  {
   "cell_type": "code",
   "execution_count": null,
   "metadata": {},
   "outputs": [],
   "source": []
  }
 ],
 "metadata": {
  "kernelspec": {
   "display_name": "Python 3",
   "language": "python",
   "name": "python3"
  },
  "language_info": {
   "codemirror_mode": {
    "name": "ipython",
    "version": 3
   },
   "file_extension": ".py",
   "mimetype": "text/x-python",
   "name": "python",
   "nbconvert_exporter": "python",
   "pygments_lexer": "ipython3",
   "version": "3.7.6"
  }
 },
 "nbformat": 4,
 "nbformat_minor": 4
}
