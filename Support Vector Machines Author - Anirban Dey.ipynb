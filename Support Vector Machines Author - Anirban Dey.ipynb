{
 "cells": [
  {
   "cell_type": "code",
   "execution_count": 1,
   "metadata": {},
   "outputs": [
    {
     "name": "stdout",
     "output_type": "stream",
     "text": [
      "Requirement already satisfied: cvxopt in c:\\users\\ezanide\\anaconda3\\lib\\site-packages (1.2.5)\n",
      "Requirement already satisfied: mkl in c:\\users\\ezanide\\anaconda3\\lib\\site-packages (from cvxopt) (2019.0)\n",
      "Requirement already satisfied: intel-openmp in c:\\users\\ezanide\\anaconda3\\lib\\site-packages (from mkl->cvxopt) (2019.0)\n"
     ]
    }
   ],
   "source": [
    "! pip install cvxopt"
   ]
  },
  {
   "cell_type": "code",
   "execution_count": 2,
   "metadata": {},
   "outputs": [],
   "source": [
    "import warnings\n",
    "warnings.simplefilter('ignore')\n",
    "\n",
    "import matplotlib.pyplot as plt\n",
    "import seaborn as sns\n",
    "import pandas as pd\n",
    "import numpy as np\n",
    "import cvxopt, re\n",
    "\n",
    "%matplotlib inline\n",
    "\n",
    "from scipy.io import loadmat"
   ]
  },
  {
   "cell_type": "code",
   "execution_count": 3,
   "metadata": {},
   "outputs": [],
   "source": [
    "\n",
    "class Kernels:\n",
    "    \n",
    "    degree=3\n",
    "    sigma=0.1\n",
    "        \n",
    "    @classmethod\n",
    "    def linear(cls,x1,x2):\n",
    "        k=np.dot(x1,x2)\n",
    "        return k\n",
    "    \n",
    "    @classmethod\n",
    "    def polynomial(cls,x1,x2):\n",
    "        k=np.power((1+np.dot(x1,x2)),cls.degree)\n",
    "        return k\n",
    "    \n",
    "    @classmethod\n",
    "    def gaussian(cls,x1,x2):\n",
    "        '''Radial basis function'''\n",
    "        k=np.exp(-np.power(np.linalg.norm(x1-x2),2)/(2*np.power(cls.sigma,2)))\n",
    "        return k"
   ]
  },
  {
   "cell_type": "code",
   "execution_count": 4,
   "metadata": {},
   "outputs": [],
   "source": [
    "class SVM:\n",
    "\n",
    "    def __init__(self,kernel=Kernels.linear,options={},C=None,maxIters=100,showProgress=False):\n",
    "        self.kernel=kernel\n",
    "        # Set kernel options\n",
    "        if options.get('degree',None) is not None:\n",
    "            Kernels.degree=options['degree']\n",
    "        if options.get('sigma',None) is not None:\n",
    "            Kernels.sigma=options['sigma']\n",
    "        self.C=C\n",
    "        self.maxIters=maxIters\n",
    "        self.showProgress=showProgress\n",
    "        if self.C is not None:\n",
    "            self.C=float(C)\n",
    "            if self.C==0:\n",
    "                self.C=None\n",
    "            \n",
    "    def fit(self,X,y):\n",
    "        m,n=X.shape\n",
    "        X=X.astype(float)\n",
    "        y=y.astype(float).reshape((m,1))\n",
    "        # Gram Matrix\n",
    "        K=np.zeros((m,m))\n",
    "        for i in range(m):\n",
    "            for j in range(m):\n",
    "                K[i,j]=self.kernel(X[i],X[j])\n",
    "        H=np.multiply(np.outer(y,y),K)\n",
    "        P=cvxopt.matrix(H)\n",
    "        q=cvxopt.matrix(np.ones((m,1))*(-1))\n",
    "        # Equality Constraints\n",
    "        A=cvxopt.matrix(y.reshape((1,m)))\n",
    "        b=cvxopt.matrix(0.0)\n",
    "        # Inequality Constraints\n",
    "        # Hard Margin SVM\n",
    "        if self.C==None:\n",
    "            G=cvxopt.matrix(np.identity(m)*(-1))\n",
    "            h=cvxopt.matrix(np.zeros((m,1)))\n",
    "        # Soft Margin SVM\n",
    "        else:\n",
    "            G=cvxopt.matrix(np.row_stack((np.identity(m)*(-1),np.identity(m))))\n",
    "            h=cvxopt.matrix(np.row_stack((np.zeros((m,1)),np.ones((m,1))*self.C)))\n",
    "        # Solve QP Problem\n",
    "        cvxopt.solvers.options['show_progress']=self.showProgress\n",
    "        cvxopt.solvers.options['maxiters']=self.maxIters\n",
    "        solution=cvxopt.solvers.qp(P,q,G,h,A,b)\n",
    "        # Lagrange Mutltpliers\n",
    "        alphas=np.ravel(solution['x'])\n",
    "        # Support Vectors have non zero lagrange multipliers\n",
    "        sv=alphas>1e-7\n",
    "        self.alphas=alphas[sv].reshape((-1,1))\n",
    "        self.svX=X[sv]\n",
    "        self.svY=y[sv]\n",
    "        # Intercept\n",
    "        svIndices=np.arange(len(alphas))[sv]\n",
    "        indexGrid=np.meshgrid(svIndices,svIndices)\n",
    "        self.b=(1/len(self.alphas))*np.sum(self.svY-np.dot(K[indexGrid],self.alphas*self.svY))\n",
    "        # Weight Vector\n",
    "        if self.kernel==Kernels.linear:\n",
    "            self.w=np.dot(self.svX.T,self.alphas*self.svY)\n",
    "        else:\n",
    "            self.w=None\n",
    "        # NOTE: We are not calculating the weight vector for a polynomial or gaussian\n",
    "        # kernel, we map the INNER PRODUCT of X to a higher dimensional space,so instead we will\n",
    "        # use the weight vector directly in our hypothesis function which will give us an expression\n",
    "        # Eq.(21) containing the inner product of support vectors and an unknown sample which we will map \n",
    "        # to higher dimension using same kernel and classify the unknown based on the sign.\n",
    "\n",
    "    def predict(self,X):\n",
    "        if self.w is not None:\n",
    "            h=np.dot(X,self.w)+self.b\n",
    "            h=np.sign(h)\n",
    "        else:\n",
    "            h=np.zeros((len(X),1))\n",
    "            for i in range(len(X)):\n",
    "                WX=0\n",
    "                for alpha,x,y in zip(self.alphas,self.svX,self.svY):\n",
    "                    WX+=alpha*y*self.kernel(X[i],x)\n",
    "                h[i]=np.sign(WX+self.b)\n",
    "        return h"
   ]
  },
  {
   "cell_type": "code",
   "execution_count": 5,
   "metadata": {},
   "outputs": [],
   "source": [
    "def visualize(X,y,model=None,title=''):\n",
    "    # Find indices of Positive and Negative samples\n",
    "    pos=np.where(y==1)[0]\n",
    "    neg=np.where(y==-1)[0]\n",
    "    # Plot samples\n",
    "    sns.scatterplot(X[pos,0],X[pos,1],label='+ve')\n",
    "    ax=sns.scatterplot(X[neg,0],X[neg,1],label='-ve')\n",
    "    ax.set(xlabel='x1',ylabel='x2',title=title)\n",
    "    if model is not None:\n",
    "        w=model.w\n",
    "        b=model.b\n",
    "        # Plot decision boundary\n",
    "        if model.kernel==Kernels.linear:\n",
    "            xp=np.linspace(np.min(X[:,0]),np.max(X[:,0]),100)\n",
    "            yp=(-1/w[1])*(b+w[0]*xp)\n",
    "            sns.lineplot(xp,yp)\n",
    "        else:\n",
    "            # Making Classification prediction over grid of values\n",
    "            x1=np.linspace(np.min(X[:,0]),np.max(X[:,0]),100)\n",
    "            x2=np.linspace(np.min(X[:,1]),np.max(X[:,1]),100)\n",
    "            [x1,x2]=meshgrid=np.meshgrid(x1,x2)\n",
    "            values=np.zeros(x1.shape)\n",
    "            for i in range(x1.shape[1]):\n",
    "                xp=np.column_stack((x1[:,i],x2[:,i]))\n",
    "                values[:,i]=svm.predict(xp).reshape(-1)\n",
    "            ax.contour(x1,x2,values,levels=[0])\n",
    "    return ax"
   ]
  },
  {
   "cell_type": "code",
   "execution_count": 6,
   "metadata": {},
   "outputs": [
    {
     "name": "stdout",
     "output_type": "stream",
     "text": [
      "__header__\n",
      "__version__\n",
      "__globals__\n",
      "X\n",
      "y\n",
      "TRAINING DATASET SHAPE : 51 X 3\n"
     ]
    },
    {
     "data": {
      "text/html": [
       "<div>\n",
       "<style scoped>\n",
       "    .dataframe tbody tr th:only-of-type {\n",
       "        vertical-align: middle;\n",
       "    }\n",
       "\n",
       "    .dataframe tbody tr th {\n",
       "        vertical-align: top;\n",
       "    }\n",
       "\n",
       "    .dataframe thead th {\n",
       "        text-align: right;\n",
       "    }\n",
       "</style>\n",
       "<table border=\"1\" class=\"dataframe\">\n",
       "  <thead>\n",
       "    <tr style=\"text-align: right;\">\n",
       "      <th></th>\n",
       "      <th>x1</th>\n",
       "      <th>x2</th>\n",
       "      <th>y</th>\n",
       "    </tr>\n",
       "  </thead>\n",
       "  <tbody>\n",
       "    <tr>\n",
       "      <th>20</th>\n",
       "      <td>1.584100</td>\n",
       "      <td>3.3575</td>\n",
       "      <td>-1</td>\n",
       "    </tr>\n",
       "    <tr>\n",
       "      <th>47</th>\n",
       "      <td>2.540300</td>\n",
       "      <td>2.8867</td>\n",
       "      <td>-1</td>\n",
       "    </tr>\n",
       "    <tr>\n",
       "      <th>1</th>\n",
       "      <td>2.275300</td>\n",
       "      <td>3.8589</td>\n",
       "      <td>1</td>\n",
       "    </tr>\n",
       "    <tr>\n",
       "      <th>43</th>\n",
       "      <td>2.229200</td>\n",
       "      <td>2.2010</td>\n",
       "      <td>-1</td>\n",
       "    </tr>\n",
       "    <tr>\n",
       "      <th>50</th>\n",
       "      <td>0.086405</td>\n",
       "      <td>4.1045</td>\n",
       "      <td>1</td>\n",
       "    </tr>\n",
       "  </tbody>\n",
       "</table>\n",
       "</div>"
      ],
      "text/plain": [
       "          x1      x2  y\n",
       "20  1.584100  3.3575 -1\n",
       "47  2.540300  2.8867 -1\n",
       "1   2.275300  3.8589  1\n",
       "43  2.229200  2.2010 -1\n",
       "50  0.086405  4.1045  1"
      ]
     },
     "execution_count": 6,
     "metadata": {},
     "output_type": "execute_result"
    },
    {
     "data": {
      "image/png": "[encoded data removed]",
      "text/plain": [
       "<Figure size 432x288 with 1 Axes>"
      ]
     },
     "metadata": {
      "needs_background": "light"
     },
     "output_type": "display_data"
    }
   ],
   "source": [
    "\n",
    "# Loading Mat file\n",
    "mat=loadmat('ex6data1.mat')\n",
    "print(*mat.keys(),sep='\\n')\n",
    "\n",
    "X=mat['X']\n",
    "y=mat['y'].astype(int)\n",
    "y[y==0]=-1\n",
    "\n",
    "data=pd.DataFrame({\n",
    "    'x1':X[:,0],\n",
    "    'x2':X[:,1],\n",
    "    'y':y.reshape(-1)\n",
    "})\n",
    "\n",
    "print('TRAINING DATASET SHAPE : {0} X {1}'.format(*data.shape))\n",
    "visualize(X,y)\n",
    "data.sample(5)"
   ]
  },
  {
   "cell_type": "code",
   "execution_count": 7,
   "metadata": {
    "scrolled": true
   },
   "outputs": [
    {
     "name": "stdout",
     "output_type": "stream",
     "text": [
      "Out of 51 training samples, 3 are support vectors.\n"
     ]
    },
    {
     "data": {
      "image/png": "[encoded data removed]",
      "text/plain": [
       "<Figure size 432x288 with 1 Axes>"
      ]
     },
     "metadata": {
      "needs_background": "light"
     },
     "output_type": "display_data"
    }
   ],
   "source": [
    "C=100\n",
    "svm=SVM(C=C)\n",
    "svm.fit(X,y)\n",
    "print(f'Out of {y.shape[0]} training samples, {len(svm.alphas)} are support vectors.')\n",
    "visualize(X,y,svm,title=f'For C={C}');"
   ]
  },
  {
   "cell_type": "code",
   "execution_count": 8,
   "metadata": {},
   "outputs": [
    {
     "name": "stdout",
     "output_type": "stream",
     "text": [
      "Out of 51 training samples, 12 are support vectors.\n"
     ]
    },
    {
     "data": {
      "image/png": "[encoded data removed]",
      "text/plain": [
       "<Figure size 432x288 with 1 Axes>"
      ]
     },
     "metadata": {
      "needs_background": "light"
     },
     "output_type": "display_data"
    }
   ],
   "source": [
    "C=1\n",
    "svm=SVM(C=C)\n",
    "svm.fit(X,y.reshape(-1))\n",
    "print(f'Out of {y.shape[0]} training samples, {len(svm.alphas)} are support vectors.')\n",
    "visualize(X,y,svm,title=f'For C={C}');"
   ]
  },
  {
   "cell_type": "code",
   "execution_count": 9,
   "metadata": {},
   "outputs": [
    {
     "name": "stdout",
     "output_type": "stream",
     "text": [
      "__header__\n",
      "__version__\n",
      "__globals__\n",
      "X\n",
      "y\n",
      "TRAINING DATASET SHAPE : 863 X 3\n"
     ]
    },
    {
     "data": {
      "text/html": [
       "<div>\n",
       "<style scoped>\n",
       "    .dataframe tbody tr th:only-of-type {\n",
       "        vertical-align: middle;\n",
       "    }\n",
       "\n",
       "    .dataframe tbody tr th {\n",
       "        vertical-align: top;\n",
       "    }\n",
       "\n",
       "    .dataframe thead th {\n",
       "        text-align: right;\n",
       "    }\n",
       "</style>\n",
       "<table border=\"1\" class=\"dataframe\">\n",
       "  <thead>\n",
       "    <tr style=\"text-align: right;\">\n",
       "      <th></th>\n",
       "      <th>x1</th>\n",
       "      <th>x2</th>\n",
       "      <th>y</th>\n",
       "    </tr>\n",
       "  </thead>\n",
       "  <tbody>\n",
       "    <tr>\n",
       "      <th>323</th>\n",
       "      <td>0.593318</td>\n",
       "      <td>0.674708</td>\n",
       "      <td>-1</td>\n",
       "    </tr>\n",
       "    <tr>\n",
       "      <th>154</th>\n",
       "      <td>0.510369</td>\n",
       "      <td>0.883772</td>\n",
       "      <td>1</td>\n",
       "    </tr>\n",
       "    <tr>\n",
       "      <th>182</th>\n",
       "      <td>0.070277</td>\n",
       "      <td>0.705409</td>\n",
       "      <td>1</td>\n",
       "    </tr>\n",
       "    <tr>\n",
       "      <th>407</th>\n",
       "      <td>0.563364</td>\n",
       "      <td>0.595760</td>\n",
       "      <td>1</td>\n",
       "    </tr>\n",
       "    <tr>\n",
       "      <th>173</th>\n",
       "      <td>0.125576</td>\n",
       "      <td>0.683480</td>\n",
       "      <td>1</td>\n",
       "    </tr>\n",
       "  </tbody>\n",
       "</table>\n",
       "</div>"
      ],
      "text/plain": [
       "           x1        x2  y\n",
       "323  0.593318  0.674708 -1\n",
       "154  0.510369  0.883772  1\n",
       "182  0.070277  0.705409  1\n",
       "407  0.563364  0.595760  1\n",
       "173  0.125576  0.683480  1"
      ]
     },
     "execution_count": 9,
     "metadata": {},
     "output_type": "execute_result"
    },
    {
     "data": {
      "image/png": "[encoded data removed]",
      "text/plain": [
       "<Figure size 432x288 with 1 Axes>"
      ]
     },
     "metadata": {
      "needs_background": "light"
     },
     "output_type": "display_data"
    }
   ],
   "source": [
    "# Loading Mat file\n",
    "mat=loadmat('ex6data2.mat')\n",
    "print(*mat.keys(),sep='\\n')\n",
    "\n",
    "X=mat['X']\n",
    "y=mat['y'].astype(int)\n",
    "y[y==0]=-1\n",
    "\n",
    "data=pd.DataFrame({\n",
    "    'x1':X[:,0],\n",
    "    'x2':X[:,1],\n",
    "    'y':y.reshape(-1)\n",
    "})\n",
    "\n",
    "print('TRAINING DATASET SHAPE : {0} X {1}'.format(*data.shape))\n",
    "visualize(X,y)\n",
    "data.sample(5)"
   ]
  },
  {
   "cell_type": "code",
   "execution_count": 10,
   "metadata": {},
   "outputs": [
    {
     "name": "stdout",
     "output_type": "stream",
     "text": [
      "Out of 863 training samples, 279 are support vectors.\n"
     ]
    },
    {
     "data": {
      "image/png": "[encoded data removed]",
      "text/plain": [
       "<Figure size 432x288 with 1 Axes>"
      ]
     },
     "metadata": {
      "needs_background": "light"
     },
     "output_type": "display_data"
    }
   ],
   "source": [
    "# Hard Margin SVM\n",
    "C=0\n",
    "svm=SVM(C=C,kernel=Kernels.gaussian)\n",
    "svm.fit(X,y)\n",
    "print(f'Out of {y.shape[0]} training samples, {len(svm.alphas)} are support vectors.')\n",
    "visualize(X,y,svm,title=f'For C={C}, sigma:{Kernels.sigma}');"
   ]
  },
  {
   "cell_type": "code",
   "execution_count": 11,
   "metadata": {},
   "outputs": [
    {
     "name": "stdout",
     "output_type": "stream",
     "text": [
      "Out of 863 training samples, 187 are support vectors.\n"
     ]
    },
    {
     "data": {
      "image/png": "[encoded data removed]",
      "text/plain": [
       "<Figure size 432x288 with 1 Axes>"
      ]
     },
     "metadata": {
      "needs_background": "light"
     },
     "output_type": "display_data"
    }
   ],
   "source": [
    "\n",
    "# Soft Margin SVM\n",
    "C=1\n",
    "svm=SVM(C=C,kernel=Kernels.gaussian)\n",
    "svm.fit(X,y)\n",
    "print(f'Out of {y.shape[0]} training samples, {len(svm.alphas)} are support vectors.')\n",
    "visualize(X,y,svm,title=f'For C={C}, sigma:{Kernels.sigma}');"
   ]
  },
  {
   "cell_type": "code",
   "execution_count": 12,
   "metadata": {},
   "outputs": [
    {
     "name": "stdout",
     "output_type": "stream",
     "text": [
      "__header__\n",
      "__version__\n",
      "__globals__\n",
      "X\n",
      "y\n",
      "yval\n",
      "Xval\n",
      "TRAINING DATASET SHAPE : 211 X 3\n"
     ]
    },
    {
     "data": {
      "text/html": [
       "<div>\n",
       "<style scoped>\n",
       "    .dataframe tbody tr th:only-of-type {\n",
       "        vertical-align: middle;\n",
       "    }\n",
       "\n",
       "    .dataframe tbody tr th {\n",
       "        vertical-align: top;\n",
       "    }\n",
       "\n",
       "    .dataframe thead th {\n",
       "        text-align: right;\n",
       "    }\n",
       "</style>\n",
       "<table border=\"1\" class=\"dataframe\">\n",
       "  <thead>\n",
       "    <tr style=\"text-align: right;\">\n",
       "      <th></th>\n",
       "      <th>x1</th>\n",
       "      <th>x2</th>\n",
       "      <th>y</th>\n",
       "    </tr>\n",
       "  </thead>\n",
       "  <tbody>\n",
       "    <tr>\n",
       "      <th>28</th>\n",
       "      <td>0.062212</td>\n",
       "      <td>-0.073099</td>\n",
       "      <td>-1</td>\n",
       "    </tr>\n",
       "    <tr>\n",
       "      <th>60</th>\n",
       "      <td>0.223502</td>\n",
       "      <td>-0.049708</td>\n",
       "      <td>-1</td>\n",
       "    </tr>\n",
       "    <tr>\n",
       "      <th>170</th>\n",
       "      <td>-0.030760</td>\n",
       "      <td>-0.466374</td>\n",
       "      <td>-1</td>\n",
       "    </tr>\n",
       "    <tr>\n",
       "      <th>209</th>\n",
       "      <td>-0.294124</td>\n",
       "      <td>-0.134795</td>\n",
       "      <td>-1</td>\n",
       "    </tr>\n",
       "    <tr>\n",
       "      <th>49</th>\n",
       "      <td>0.071429</td>\n",
       "      <td>-0.646199</td>\n",
       "      <td>-1</td>\n",
       "    </tr>\n",
       "  </tbody>\n",
       "</table>\n",
       "</div>"
      ],
      "text/plain": [
       "           x1        x2  y\n",
       "28   0.062212 -0.073099 -1\n",
       "60   0.223502 -0.049708 -1\n",
       "170 -0.030760 -0.466374 -1\n",
       "209 -0.294124 -0.134795 -1\n",
       "49   0.071429 -0.646199 -1"
      ]
     },
     "execution_count": 12,
     "metadata": {},
     "output_type": "execute_result"
    },
    {
     "data": {
      "image/png": "[encoded data removed]",
      "text/plain": [
       "<Figure size 432x288 with 1 Axes>"
      ]
     },
     "metadata": {
      "needs_background": "light"
     },
     "output_type": "display_data"
    }
   ],
   "source": [
    "# Loading Mat file\n",
    "mat=loadmat('ex6data3.mat')\n",
    "print(*mat.keys(),sep='\\n')\n",
    "\n",
    "X=mat['X']\n",
    "y=mat['y'].astype(int)\n",
    "y[y==0]=-1\n",
    "# Validation set\n",
    "Xval=mat['Xval']\n",
    "yval=mat['yval'].astype(int)\n",
    "yval[yval==0]=-1\n",
    "\n",
    "data=pd.DataFrame({\n",
    "    'x1':X[:,0],\n",
    "    'x2':X[:,1],\n",
    "    'y':y.reshape(-1)\n",
    "})\n",
    "\n",
    "print('TRAINING DATASET SHAPE : {0} X {1}'.format(*data.shape))\n",
    "visualize(X,y)\n",
    "data.sample(5)"
   ]
  },
  {
   "cell_type": "code",
   "execution_count": 13,
   "metadata": {},
   "outputs": [],
   "source": [
    "def calculateAccuracy(h,y):\n",
    "    '''Calculates the accuracy between the target and prediction'''\n",
    "    m=y.shape[0]\n",
    "    count=np.ones(h.shape)[h==y.reshape((m,1))].sum()\n",
    "    accuracy=(count/m)*100\n",
    "    return accuracy"
   ]
  },
  {
   "cell_type": "code",
   "execution_count": 14,
   "metadata": {},
   "outputs": [
    {
     "name": "stdout",
     "output_type": "stream",
     "text": [
      "For C=0.01 & sigma=0.01 ,\tValidation accuracy: 48.50%\n",
      "For C=0.01 & sigma=0.03 ,\tValidation accuracy: 76.00%\n",
      "For C=0.01 & sigma=0.10 ,\tValidation accuracy: 95.50%\n",
      "For C=0.30 & sigma=0.10 ,\tValidation accuracy: 96.50%\n"
     ]
    }
   ],
   "source": [
    "\n",
    "values=[0.01, 0.03, 0.1, 0.3, 1, 3, 10, 30]\n",
    "C=sigma=None\n",
    "accuracy=0\n",
    "\n",
    "for i in values:\n",
    "    for j in values:\n",
    "        options={'sigma':j}\n",
    "        svm=SVM(C=i,kernel=Kernels.gaussian,options=options)\n",
    "        svm.fit(X,y)\n",
    "        h=svm.predict(Xval)\n",
    "        temp=calculateAccuracy(h,yval)\n",
    "        if temp>accuracy:\n",
    "            accuracy=temp\n",
    "            C=i\n",
    "            sigma=j\n",
    "            print(f'For C={C:.2f} & sigma={sigma:.2f} ,\\tValidation accuracy: {accuracy:.2f}%')"
   ]
  },
  {
   "cell_type": "code",
   "execution_count": 15,
   "metadata": {},
   "outputs": [
    {
     "name": "stdout",
     "output_type": "stream",
     "text": [
      "Out of 211 training samples, 197 are support vectors.\n"
     ]
    },
    {
     "data": {
      "image/png": "[encoded data removed]",
      "text/plain": [
       "<Figure size 432x288 with 1 Axes>"
      ]
     },
     "metadata": {
      "needs_background": "light"
     },
     "output_type": "display_data"
    }
   ],
   "source": [
    "options={'sigma':sigma}\n",
    "svm=SVM(C=C,kernel=Kernels.gaussian,options=options)\n",
    "svm.fit(X,y)\n",
    "h=svm.predict(X)\n",
    "print(f'Out of {y.shape[0]} training samples, {len(svm.alphas)} are support vectors.')\n",
    "visualize(X,y,svm,title=f'For C={C}, sigma:{sigma}');"
   ]
  },
  {
   "cell_type": "code",
   "execution_count": 16,
   "metadata": {},
   "outputs": [],
   "source": [
    "\n",
    "vocabulary=[]\n",
    "with open('vocab.txt') as f:\n",
    "    for word in f.readlines():\n",
    "        word=str(word).strip().replace('\\t','')\n",
    "        word=re.search(r'\\D+',word).group(0)\n",
    "        vocabulary.append(word)"
   ]
  },
  {
   "cell_type": "code",
   "execution_count": 17,
   "metadata": {},
   "outputs": [
    {
     "name": "stdout",
     "output_type": "stream",
     "text": [
      "Requirement already satisfied: stem in c:\\users\\ezanide\\anaconda3\\lib\\site-packages (1.8.0)\n"
     ]
    }
   ],
   "source": [
    "! pip install stem"
   ]
  },
  {
   "cell_type": "code",
   "execution_count": 18,
   "metadata": {},
   "outputs": [
    {
     "name": "stdout",
     "output_type": "stream",
     "text": [
      "Requirement already satisfied: stemming in c:\\users\\ezanide\\anaconda3\\lib\\site-packages (1.0.1)\n"
     ]
    }
   ],
   "source": [
    "! pip install stemming"
   ]
  },
  {
   "cell_type": "code",
   "execution_count": 19,
   "metadata": {},
   "outputs": [],
   "source": [
    "from stemming.porter2 import stem\n",
    "\n",
    "def processEmail(email,vocabulary):\n",
    "    '''Preprocesses the body of an email and returns a list of indices\n",
    "    of the words contained in the email'''\n",
    "    wordIndices=[]\n",
    "    # Stripping leading and trailing white spaces\n",
    "    email=email.strip()\n",
    "    # Removing newlines\n",
    "    email=email.replace('\\n',' ')    \n",
    "    # Lower-casing\n",
    "    email=email.lower()\n",
    "    # Replace all numbers with 'number'\n",
    "    email=re.sub(r'\\d+','number',email)\n",
    "    # Replace all URLs with 'httpaddr'\n",
    "    email=re.sub(r\"[\\w!#$%&'*+-/=?^_`{|}~]+@[\\w]+\\.[\\w]+\",'httpaddr',email)\n",
    "    # Replace all $ sign with 'dollar'\n",
    "    email=re.sub(r'\\$+','dollar',email)\n",
    "    # Remove punctuation\n",
    "    email=re.sub(r'[@\\$/#\\.\\-:&\\*\\+=\\[\\]\\?!\\(\\)\\{\\},''\">_<;%]+','',email)\n",
    "    # Word Stemming\n",
    "    email=stem(email)\n",
    "    # Lookup for word in vocabulary\n",
    "    for word in email.split():\n",
    "        try:\n",
    "            index=vocabulary.index(word)\n",
    "            wordIndices.append(index)\n",
    "        except:\n",
    "            pass\n",
    "    print(email,end='\\n\\n')\n",
    "    print(','.join([str(a) for a in wordIndices]))\n",
    "    return wordIndices"
   ]
  },
  {
   "cell_type": "code",
   "execution_count": 20,
   "metadata": {},
   "outputs": [
    {
     "name": "stdout",
     "output_type": "stream",
     "text": [
      "Do You Want To Make $1000 Or More Per Week?\n",
      "\n",
      " \n",
      "\n",
      "If you are a motivated and qualified individual - I \n",
      "will personally demonstrate to you a system that will \n",
      "make you $1,000 per week or more! This is NOT mlm.\n",
      "\n",
      " \n",
      "\n",
      "Call our 24 hour pre-recorded number to get the \n",
      "details.  \n",
      "\n",
      " \n",
      "\n",
      "000-456-789\n",
      "\n",
      " \n",
      "\n",
      "I need people who want to make serious money.  Make \n",
      "the call and get the facts. \n",
      "\n",
      "Invest 2 minutes in yourself now!\n",
      "\n",
      " \n",
      "\n",
      "000-456-789\n",
      "\n",
      " \n",
      "\n",
      "Looking forward to your call and I will introduce you \n",
      "to people like yourself who\n",
      "are currently making $10,000 plus per week!\n",
      "\n",
      " \n",
      "\n",
      "000-456-789\n",
      "\n",
      "\n",
      "\n",
      "3484lJGv6-241lEaN9080lRmS6-271WxHo7524qiyT5-438rjUv5615hQcf0-662eiDB9057dMtVl72\n",
      "\n",
      "\n"
     ]
    }
   ],
   "source": [
    "with open('spamSample1.txt') as f:\n",
    "    sample=f.read()\n",
    "print(sample)"
   ]
  },
  {
   "cell_type": "code",
   "execution_count": 21,
   "metadata": {},
   "outputs": [
    {
     "name": "stdout",
     "output_type": "stream",
     "text": [
      "do you want to make dollarnumber or more per week     if you are a motivated and qualified individual  i  will personally demonstrate to you a system that will  make you dollarnumbernumber per week or more this is not mlm     call our number hour prerecorded number to get the  details       numbernumbernumber     i need people who want to make serious money  make  the call and get the facts   invest number minutes in yourself now     numbernumbernumber     looking forward to your call and i will introduce you  to people like yourself who are currently making dollarnumbernumber plus per week     numbernumbernumber    numberljgvnumbernumberleannumberlrmsnumbernumberwxhonumberqiytnumbernumberrjuvnumberhqcfnumbernumbereidbnumberdmtvlnumb\n",
      "\n",
      "470,1892,1808,1698,996,1181,1063,1230,1826,809,1892,73,1851,1698,1892,1630,1664,1851,996,1892,1230,1826,1181,1063,876,1112,233,1190,1119,791,1119,1698,707,1665,1092,1843,1808,1698,996,996,1665,233,73,707,1665,868,1119,824,1895,1116,675,1698,1894,233,73,1851,1892,1698,955,1895,1843,1230,1826\n"
     ]
    }
   ],
   "source": [
    "indices=processEmail(sample,vocabulary)"
   ]
  },
  {
   "cell_type": "code",
   "execution_count": 22,
   "metadata": {},
   "outputs": [
    {
     "name": "stdout",
     "output_type": "stream",
     "text": [
      "Best Buy Viagra Generic Online\n",
      "\n",
      "Viagra 100mg x 60 Pills $125, Free Pills & Reorder Discount, Top Selling 100% Quality & Satisfaction guaranteed!\n",
      "\n",
      "We accept VISA, Master & E-Check Payments, 90000+ Satisfied Customers!\n",
      "http://medphysitcstech.ru\n",
      "\n",
      "\n",
      "\n"
     ]
    }
   ],
   "source": [
    "with open('spamSample2.txt') as f:\n",
    "    sample=f.read()\n",
    "print(sample)"
   ]
  },
  {
   "cell_type": "code",
   "execution_count": 23,
   "metadata": {},
   "outputs": [
    {
     "name": "stdout",
     "output_type": "stream",
     "text": [
      "best buy viagra generic online  viagra numbermg x number pills dollarnumber free pills  reorder discount top selling number quality  satisfaction guaranteed  we accept visa master  echeck payments number satisfied customers httpmedphysitcstechru\n",
      "\n",
      "175,1119,680,459,1710,1119,1818,9,1794,1011,1119\n"
     ]
    }
   ],
   "source": [
    "indices=processEmail(sample,vocabulary)"
   ]
  },
  {
   "cell_type": "code",
   "execution_count": 24,
   "metadata": {},
   "outputs": [],
   "source": [
    "def extractFeatures(wordIndices,vocabulary):\n",
    "    '''Creates a feature vector containing 0 and 1's out of word indices'''\n",
    "    features=np.zeros(len(vocabulary))\n",
    "    features[wordIndices]=1\n",
    "    return features"
   ]
  },
  {
   "cell_type": "code",
   "execution_count": 25,
   "metadata": {},
   "outputs": [
    {
     "data": {
      "text/html": [
       "<div>\n",
       "<style scoped>\n",
       "    .dataframe tbody tr th:only-of-type {\n",
       "        vertical-align: middle;\n",
       "    }\n",
       "\n",
       "    .dataframe tbody tr th {\n",
       "        vertical-align: top;\n",
       "    }\n",
       "\n",
       "    .dataframe thead th {\n",
       "        text-align: right;\n",
       "    }\n",
       "</style>\n",
       "<table border=\"1\" class=\"dataframe\">\n",
       "  <thead>\n",
       "    <tr style=\"text-align: right;\">\n",
       "      <th></th>\n",
       "      <th>count</th>\n",
       "    </tr>\n",
       "  </thead>\n",
       "  <tbody>\n",
       "    <tr>\n",
       "      <th>0.0</th>\n",
       "      <td>1890</td>\n",
       "    </tr>\n",
       "    <tr>\n",
       "      <th>1.0</th>\n",
       "      <td>9</td>\n",
       "    </tr>\n",
       "  </tbody>\n",
       "</table>\n",
       "</div>"
      ],
      "text/plain": [
       "     count\n",
       "0.0   1890\n",
       "1.0      9"
      ]
     },
     "execution_count": 25,
     "metadata": {},
     "output_type": "execute_result"
    }
   ],
   "source": [
    "features=extractFeatures(indices,vocabulary)\n",
    "pd.DataFrame(pd.Series(features).value_counts(),columns=['count'])"
   ]
  },
  {
   "cell_type": "code",
   "execution_count": 26,
   "metadata": {},
   "outputs": [
    {
     "name": "stdout",
     "output_type": "stream",
     "text": [
      "DATASET SHAPE : 4000 X 1900\n",
      "SPAM EMAIL RATIO : 31.92%\n"
     ]
    },
    {
     "data": {
      "text/html": [
       "<div>\n",
       "<style scoped>\n",
       "    .dataframe tbody tr th:only-of-type {\n",
       "        vertical-align: middle;\n",
       "    }\n",
       "\n",
       "    .dataframe tbody tr th {\n",
       "        vertical-align: top;\n",
       "    }\n",
       "\n",
       "    .dataframe thead th {\n",
       "        text-align: right;\n",
       "    }\n",
       "</style>\n",
       "<table border=\"1\" class=\"dataframe\">\n",
       "  <thead>\n",
       "    <tr style=\"text-align: right;\">\n",
       "      <th></th>\n",
       "      <th>x1</th>\n",
       "      <th>x2</th>\n",
       "      <th>x3</th>\n",
       "      <th>x4</th>\n",
       "      <th>x5</th>\n",
       "      <th>x6</th>\n",
       "      <th>x7</th>\n",
       "      <th>x8</th>\n",
       "      <th>x9</th>\n",
       "      <th>x10</th>\n",
       "      <th>...</th>\n",
       "      <th>x1891</th>\n",
       "      <th>x1892</th>\n",
       "      <th>x1893</th>\n",
       "      <th>x1894</th>\n",
       "      <th>x1895</th>\n",
       "      <th>x1896</th>\n",
       "      <th>x1897</th>\n",
       "      <th>x1898</th>\n",
       "      <th>x1899</th>\n",
       "      <th>y</th>\n",
       "    </tr>\n",
       "  </thead>\n",
       "  <tbody>\n",
       "    <tr>\n",
       "      <th>3098</th>\n",
       "      <td>0</td>\n",
       "      <td>0</td>\n",
       "      <td>0</td>\n",
       "      <td>0</td>\n",
       "      <td>0</td>\n",
       "      <td>0</td>\n",
       "      <td>0</td>\n",
       "      <td>0</td>\n",
       "      <td>0</td>\n",
       "      <td>0</td>\n",
       "      <td>...</td>\n",
       "      <td>0</td>\n",
       "      <td>0</td>\n",
       "      <td>1</td>\n",
       "      <td>0</td>\n",
       "      <td>0</td>\n",
       "      <td>0</td>\n",
       "      <td>0</td>\n",
       "      <td>0</td>\n",
       "      <td>0</td>\n",
       "      <td>-1</td>\n",
       "    </tr>\n",
       "    <tr>\n",
       "      <th>1937</th>\n",
       "      <td>0</td>\n",
       "      <td>0</td>\n",
       "      <td>0</td>\n",
       "      <td>0</td>\n",
       "      <td>1</td>\n",
       "      <td>0</td>\n",
       "      <td>0</td>\n",
       "      <td>0</td>\n",
       "      <td>0</td>\n",
       "      <td>1</td>\n",
       "      <td>...</td>\n",
       "      <td>0</td>\n",
       "      <td>0</td>\n",
       "      <td>1</td>\n",
       "      <td>0</td>\n",
       "      <td>1</td>\n",
       "      <td>0</td>\n",
       "      <td>0</td>\n",
       "      <td>0</td>\n",
       "      <td>0</td>\n",
       "      <td>1</td>\n",
       "    </tr>\n",
       "    <tr>\n",
       "      <th>3910</th>\n",
       "      <td>0</td>\n",
       "      <td>0</td>\n",
       "      <td>0</td>\n",
       "      <td>0</td>\n",
       "      <td>0</td>\n",
       "      <td>0</td>\n",
       "      <td>0</td>\n",
       "      <td>0</td>\n",
       "      <td>0</td>\n",
       "      <td>0</td>\n",
       "      <td>...</td>\n",
       "      <td>0</td>\n",
       "      <td>0</td>\n",
       "      <td>1</td>\n",
       "      <td>0</td>\n",
       "      <td>1</td>\n",
       "      <td>0</td>\n",
       "      <td>0</td>\n",
       "      <td>0</td>\n",
       "      <td>0</td>\n",
       "      <td>-1</td>\n",
       "    </tr>\n",
       "    <tr>\n",
       "      <th>3926</th>\n",
       "      <td>0</td>\n",
       "      <td>0</td>\n",
       "      <td>1</td>\n",
       "      <td>0</td>\n",
       "      <td>1</td>\n",
       "      <td>0</td>\n",
       "      <td>0</td>\n",
       "      <td>0</td>\n",
       "      <td>0</td>\n",
       "      <td>0</td>\n",
       "      <td>...</td>\n",
       "      <td>0</td>\n",
       "      <td>0</td>\n",
       "      <td>1</td>\n",
       "      <td>0</td>\n",
       "      <td>1</td>\n",
       "      <td>0</td>\n",
       "      <td>0</td>\n",
       "      <td>0</td>\n",
       "      <td>0</td>\n",
       "      <td>-1</td>\n",
       "    </tr>\n",
       "    <tr>\n",
       "      <th>152</th>\n",
       "      <td>0</td>\n",
       "      <td>0</td>\n",
       "      <td>0</td>\n",
       "      <td>0</td>\n",
       "      <td>0</td>\n",
       "      <td>0</td>\n",
       "      <td>0</td>\n",
       "      <td>0</td>\n",
       "      <td>0</td>\n",
       "      <td>1</td>\n",
       "      <td>...</td>\n",
       "      <td>0</td>\n",
       "      <td>0</td>\n",
       "      <td>1</td>\n",
       "      <td>0</td>\n",
       "      <td>1</td>\n",
       "      <td>0</td>\n",
       "      <td>0</td>\n",
       "      <td>0</td>\n",
       "      <td>0</td>\n",
       "      <td>1</td>\n",
       "    </tr>\n",
       "  </tbody>\n",
       "</table>\n",
       "<p>5 rows × 1900 columns</p>\n",
       "</div>"
      ],
      "text/plain": [
       "      x1  x2  x3  x4  x5  x6  x7  x8  x9  x10  ...  x1891  x1892  x1893  \\\n",
       "3098   0   0   0   0   0   0   0   0   0    0  ...      0      0      1   \n",
       "1937   0   0   0   0   1   0   0   0   0    1  ...      0      0      1   \n",
       "3910   0   0   0   0   0   0   0   0   0    0  ...      0      0      1   \n",
       "3926   0   0   1   0   1   0   0   0   0    0  ...      0      0      1   \n",
       "152    0   0   0   0   0   0   0   0   0    1  ...      0      0      1   \n",
       "\n",
       "      x1894  x1895  x1896  x1897  x1898  x1899  y  \n",
       "3098      0      0      0      0      0      0 -1  \n",
       "1937      0      1      0      0      0      0  1  \n",
       "3910      0      1      0      0      0      0 -1  \n",
       "3926      0      1      0      0      0      0 -1  \n",
       "152       0      1      0      0      0      0  1  \n",
       "\n",
       "[5 rows x 1900 columns]"
      ]
     },
     "execution_count": 26,
     "metadata": {},
     "output_type": "execute_result"
    }
   ],
   "source": [
    "\n",
    "mat=loadmat('./spamTrain.mat')\n",
    "m,n=mat['X'].shape\n",
    "mat['y']=mat['y'].astype(int)\n",
    "mat['y'][mat['y']==0]=-1\n",
    "\n",
    "data=pd.DataFrame()\n",
    "for i in range(n):\n",
    "    data[f'x{i+1}']=mat['X'][:,i]\n",
    "data['y']=mat['y']\n",
    "\n",
    "valueCount=dict(data['y'].value_counts())\n",
    "ratio=(valueCount[1]/m)*100\n",
    "print('DATASET SHAPE : {0} X {1}'.format(*data.shape))\n",
    "print(f'SPAM EMAIL RATIO : {ratio:.2f}%')\n",
    "data.sample(5)"
   ]
  },
  {
   "cell_type": "code",
   "execution_count": 27,
   "metadata": {},
   "outputs": [],
   "source": [
    "# Shuffle before split\n",
    "data=data.sample(frac=1).reset_index(drop=True)\n",
    "\n",
    "# 70/30 Split\n",
    "mTrain=int((m*70)/100)\n",
    "X=data.iloc[:mTrain,:-1].values\n",
    "y=data.iloc[:mTrain,-1].values\n",
    "\n",
    "Xval=data.iloc[mTrain:,:-1].values\n",
    "yval=data.iloc[mTrain:,-1].values"
   ]
  },
  {
   "cell_type": "code",
   "execution_count": 28,
   "metadata": {},
   "outputs": [
    {
     "name": "stdout",
     "output_type": "stream",
     "text": [
      "For C=0.01 ,\tValidation accuracy: 97.42%\n",
      "For C=0.03 ,\tValidation accuracy: 97.75%\n"
     ]
    }
   ],
   "source": [
    "\n",
    "values=[0.01, 0.03, 0.1,0.3]\n",
    "C=None\n",
    "accuracy=0\n",
    "models={}\n",
    "\n",
    "for i in values:\n",
    "    svm=SVM(C=i,kernel=Kernels.linear)\n",
    "    # Training\n",
    "    svm.fit(X,y)\n",
    "    models[i]=svm\n",
    "    # Cross Validating\n",
    "    h=svm.predict(Xval)\n",
    "    temp=calculateAccuracy(h,yval)\n",
    "    if temp>accuracy:\n",
    "        accuracy=temp\n",
    "        C=i\n",
    "        print(f'For C={C:.2f} ,\\tValidation accuracy: {temp:.2f}%')"
   ]
  },
  {
   "cell_type": "code",
   "execution_count": 29,
   "metadata": {},
   "outputs": [
    {
     "name": "stdout",
     "output_type": "stream",
     "text": [
      "For C=0.03 ,\tTest accuracy: 98.30%\n"
     ]
    }
   ],
   "source": [
    "mat=loadmat('./spamTest.mat')\n",
    "Xtest=mat['Xtest']\n",
    "ytest=mat['ytest'].astype(int)\n",
    "ytest[ytest==0]=-1\n",
    "\n",
    "svm=models[C]\n",
    "h=svm.predict(Xtest)\n",
    "accuracy=calculateAccuracy(h,ytest)\n",
    "print(f'For C={C:.2f} ,\\tTest accuracy: {accuracy:.2f}%')"
   ]
  },
  {
   "cell_type": "code",
   "execution_count": 30,
   "metadata": {},
   "outputs": [
    {
     "data": {
      "text/html": [
       "<div>\n",
       "<style scoped>\n",
       "    .dataframe tbody tr th:only-of-type {\n",
       "        vertical-align: middle;\n",
       "    }\n",
       "\n",
       "    .dataframe tbody tr th {\n",
       "        vertical-align: top;\n",
       "    }\n",
       "\n",
       "    .dataframe thead th {\n",
       "        text-align: right;\n",
       "    }\n",
       "</style>\n",
       "<table border=\"1\" class=\"dataframe\">\n",
       "  <thead>\n",
       "    <tr style=\"text-align: right;\">\n",
       "      <th></th>\n",
       "      <th>Word</th>\n",
       "      <th>Weight</th>\n",
       "    </tr>\n",
       "  </thead>\n",
       "  <tbody>\n",
       "    <tr>\n",
       "      <th>0</th>\n",
       "      <td>click</td>\n",
       "      <td>0.387654</td>\n",
       "    </tr>\n",
       "    <tr>\n",
       "      <th>1</th>\n",
       "      <td>basenumb</td>\n",
       "      <td>0.345451</td>\n",
       "    </tr>\n",
       "    <tr>\n",
       "      <th>2</th>\n",
       "      <td>remov</td>\n",
       "      <td>0.324285</td>\n",
       "    </tr>\n",
       "    <tr>\n",
       "      <th>3</th>\n",
       "      <td>our</td>\n",
       "      <td>0.293180</td>\n",
       "    </tr>\n",
       "    <tr>\n",
       "      <th>4</th>\n",
       "      <td>guarante</td>\n",
       "      <td>0.249634</td>\n",
       "    </tr>\n",
       "    <tr>\n",
       "      <th>...</th>\n",
       "      <td>...</td>\n",
       "      <td>...</td>\n",
       "    </tr>\n",
       "    <tr>\n",
       "      <th>1894</th>\n",
       "      <td>httpaddr</td>\n",
       "      <td>-0.241978</td>\n",
       "    </tr>\n",
       "    <tr>\n",
       "      <th>1895</th>\n",
       "      <td>date</td>\n",
       "      <td>-0.279307</td>\n",
       "    </tr>\n",
       "    <tr>\n",
       "      <th>1896</th>\n",
       "      <td>wrote</td>\n",
       "      <td>-0.308250</td>\n",
       "    </tr>\n",
       "    <tr>\n",
       "      <th>1897</th>\n",
       "      <td>url</td>\n",
       "      <td>-0.308712</td>\n",
       "    </tr>\n",
       "    <tr>\n",
       "      <th>1898</th>\n",
       "      <td>spamassassin</td>\n",
       "      <td>-0.346960</td>\n",
       "    </tr>\n",
       "  </tbody>\n",
       "</table>\n",
       "<p>1899 rows × 2 columns</p>\n",
       "</div>"
      ],
      "text/plain": [
       "              Word    Weight\n",
       "0            click  0.387654\n",
       "1         basenumb  0.345451\n",
       "2            remov  0.324285\n",
       "3              our  0.293180\n",
       "4         guarante  0.249634\n",
       "...            ...       ...\n",
       "1894      httpaddr -0.241978\n",
       "1895          date -0.279307\n",
       "1896         wrote -0.308250\n",
       "1897           url -0.308712\n",
       "1898  spamassassin -0.346960\n",
       "\n",
       "[1899 rows x 2 columns]"
      ]
     },
     "execution_count": 30,
     "metadata": {},
     "output_type": "execute_result"
    }
   ],
   "source": [
    "df=pd.DataFrame({'Word':vocabulary,'Weight':svm.w.reshape(-1)})\n",
    "df=df.sort_values(by='Weight',ascending=False).reset_index(drop=True)\n",
    "df"
   ]
  },
  {
   "cell_type": "code",
   "execution_count": null,
   "metadata": {},
   "outputs": [],
   "source": []
  }
 ],
 "metadata": {
  "kernelspec": {
   "display_name": "Python 3",
   "language": "python",
   "name": "python3"
  },
  "language_info": {
   "codemirror_mode": {
    "name": "ipython",
    "version": 3
   },
   "file_extension": ".py",
   "mimetype": "text/x-python",
   "name": "python",
   "nbconvert_exporter": "python",
   "pygments_lexer": "ipython3",
   "version": "3.7.6"
  }
 },
 "nbformat": 4,
 "nbformat_minor": 4
}
